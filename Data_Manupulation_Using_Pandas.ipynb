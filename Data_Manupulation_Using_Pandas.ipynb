{
  "nbformat": 4,
  "nbformat_minor": 0,
  "metadata": {
    "colab": {
      "name": "Data Manupulation Using Pandas.ipynb",
      "provenance": []
    },
    "kernelspec": {
      "name": "python3",
      "display_name": "Python 3"
    },
    "language_info": {
      "name": "python"
    }
  },
  "cells": [
    {
      "cell_type": "markdown",
      "metadata": {
        "id": "qFOOwMpO0utG"
      },
      "source": [
        "# DataFrames"
      ]
    },
    {
      "cell_type": "markdown",
      "metadata": {
        "id": "yAyS0lPf02lE"
      },
      "source": [
        "## Inspecting a DataFrame"
      ]
    },
    {
      "cell_type": "markdown",
      "metadata": {
        "id": "o-w8vphQ05eP"
      },
      "source": [
        "When you get a new DataFrame to work with, the first thing you need to do is explore it and see what it contains. There are several useful methods and attributes for this.\n",
        "\n",
        "* .head() returns the first few rows (the “head” of the DataFrame).\n",
        "* .info() shows information on each of the columns, such as the data type and number of missing values.\n",
        "* .describe() calculates a few summary statistics for each column.\n",
        "* .shape returns the number of rows and columns of the DataFrame.\n",
        "* .value returns a 2D numpy array with all values in the dataframe\n",
        "* .columns returns the name of the columns\n",
        "* .index returns the name/numbers of the rows\n"
      ]
    },
    {
      "cell_type": "markdown",
      "metadata": {
        "id": "v_Sc7MfR129E"
      },
      "source": [
        "homelessness is a DataFrame explore it.\n",
        "* It contains estimates of homelessness in each U.S. state in 2018. \n",
        "* The individual column is the number of homeless individuals not part of a family with children. \n",
        "* The family_members column is the number of homeless individuals part of a family with children. \n",
        "* The state_pop column is the state's total population.\n"
      ]
    },
    {
      "cell_type": "code",
      "metadata": {
        "id": "mQFjnl-V0uH6"
      },
      "source": [
        "import numpy as np\n",
        "import pandas as pd\n",
        "import matplotlib.pyplot as plt"
      ],
      "execution_count": 1,
      "outputs": []
    },
    {
      "cell_type": "code",
      "metadata": {
        "id": "R_0zF_aE0mwb"
      },
      "source": [
        "url='https://drive.google.com/file/d/1Lq26VNpIwF5BzGDLn9c8NGQn9TDe2qkZ/view?usp=sharing'\n",
        "url2='https://drive.google.com/uc?id=' + url.split('/')[-2]\n",
        "homelessness = pd.read_csv(url2)"
      ],
      "execution_count": 2,
      "outputs": []
    },
    {
      "cell_type": "code",
      "metadata": {
        "colab": {
          "base_uri": "https://localhost:8080/",
          "height": 204
        },
        "id": "bTHWhj7a0ns1",
        "outputId": "30491293-5ce2-4767-f678-c2dd4ab93abf"
      },
      "source": [
        "homelessness.head()"
      ],
      "execution_count": 3,
      "outputs": [
        {
          "output_type": "execute_result",
          "data": {
            "text/html": [
              "<div>\n",
              "<style scoped>\n",
              "    .dataframe tbody tr th:only-of-type {\n",
              "        vertical-align: middle;\n",
              "    }\n",
              "\n",
              "    .dataframe tbody tr th {\n",
              "        vertical-align: top;\n",
              "    }\n",
              "\n",
              "    .dataframe thead th {\n",
              "        text-align: right;\n",
              "    }\n",
              "</style>\n",
              "<table border=\"1\" class=\"dataframe\">\n",
              "  <thead>\n",
              "    <tr style=\"text-align: right;\">\n",
              "      <th></th>\n",
              "      <th>Unnamed: 0</th>\n",
              "      <th>region</th>\n",
              "      <th>state</th>\n",
              "      <th>individuals</th>\n",
              "      <th>family_members</th>\n",
              "      <th>state_pop</th>\n",
              "    </tr>\n",
              "  </thead>\n",
              "  <tbody>\n",
              "    <tr>\n",
              "      <th>0</th>\n",
              "      <td>0</td>\n",
              "      <td>East South Central</td>\n",
              "      <td>Alabama</td>\n",
              "      <td>2570.0</td>\n",
              "      <td>864.0</td>\n",
              "      <td>4887681</td>\n",
              "    </tr>\n",
              "    <tr>\n",
              "      <th>1</th>\n",
              "      <td>1</td>\n",
              "      <td>Pacific</td>\n",
              "      <td>Alaska</td>\n",
              "      <td>1434.0</td>\n",
              "      <td>582.0</td>\n",
              "      <td>735139</td>\n",
              "    </tr>\n",
              "    <tr>\n",
              "      <th>2</th>\n",
              "      <td>2</td>\n",
              "      <td>Mountain</td>\n",
              "      <td>Arizona</td>\n",
              "      <td>7259.0</td>\n",
              "      <td>2606.0</td>\n",
              "      <td>7158024</td>\n",
              "    </tr>\n",
              "    <tr>\n",
              "      <th>3</th>\n",
              "      <td>3</td>\n",
              "      <td>West South Central</td>\n",
              "      <td>Arkansas</td>\n",
              "      <td>2280.0</td>\n",
              "      <td>432.0</td>\n",
              "      <td>3009733</td>\n",
              "    </tr>\n",
              "    <tr>\n",
              "      <th>4</th>\n",
              "      <td>4</td>\n",
              "      <td>Pacific</td>\n",
              "      <td>California</td>\n",
              "      <td>109008.0</td>\n",
              "      <td>20964.0</td>\n",
              "      <td>39461588</td>\n",
              "    </tr>\n",
              "  </tbody>\n",
              "</table>\n",
              "</div>"
            ],
            "text/plain": [
              "   Unnamed: 0              region  ... family_members  state_pop\n",
              "0           0  East South Central  ...          864.0    4887681\n",
              "1           1             Pacific  ...          582.0     735139\n",
              "2           2            Mountain  ...         2606.0    7158024\n",
              "3           3  West South Central  ...          432.0    3009733\n",
              "4           4             Pacific  ...        20964.0   39461588\n",
              "\n",
              "[5 rows x 6 columns]"
            ]
          },
          "metadata": {
            "tags": []
          },
          "execution_count": 3
        }
      ]
    },
    {
      "cell_type": "code",
      "metadata": {
        "colab": {
          "base_uri": "https://localhost:8080/"
        },
        "id": "vVIwlD6E8bpU",
        "outputId": "51a6ec66-23b1-4575-d9a9-bbae9364f03d"
      },
      "source": [
        "# Print the head of the homelessness data\n",
        "print(homelessness.head())\n",
        "\n",
        "# Print information about homelessness\n",
        "print(homelessness.info())\n",
        "\n",
        "# Print the shape of homelessness\n",
        "print(homelessness.shape)\n",
        "\n",
        "# Print a description of homelessness\n",
        "print(homelessness.describe())"
      ],
      "execution_count": 4,
      "outputs": [
        {
          "output_type": "stream",
          "text": [
            "   Unnamed: 0              region  ... family_members  state_pop\n",
            "0           0  East South Central  ...          864.0    4887681\n",
            "1           1             Pacific  ...          582.0     735139\n",
            "2           2            Mountain  ...         2606.0    7158024\n",
            "3           3  West South Central  ...          432.0    3009733\n",
            "4           4             Pacific  ...        20964.0   39461588\n",
            "\n",
            "[5 rows x 6 columns]\n",
            "<class 'pandas.core.frame.DataFrame'>\n",
            "RangeIndex: 51 entries, 0 to 50\n",
            "Data columns (total 6 columns):\n",
            " #   Column          Non-Null Count  Dtype  \n",
            "---  ------          --------------  -----  \n",
            " 0   Unnamed: 0      51 non-null     int64  \n",
            " 1   region          51 non-null     object \n",
            " 2   state           51 non-null     object \n",
            " 3   individuals     51 non-null     float64\n",
            " 4   family_members  51 non-null     float64\n",
            " 5   state_pop       51 non-null     int64  \n",
            "dtypes: float64(2), int64(2), object(2)\n",
            "memory usage: 2.5+ KB\n",
            "None\n",
            "(51, 6)\n",
            "       Unnamed: 0    individuals  family_members     state_pop\n",
            "count   51.000000      51.000000       51.000000  5.100000e+01\n",
            "mean    25.000000    7225.784314     3504.882353  6.405637e+06\n",
            "std     14.866069   15991.025083     7805.411811  7.327258e+06\n",
            "min      0.000000     434.000000       75.000000  5.776010e+05\n",
            "25%     12.500000    1446.500000      592.000000  1.777414e+06\n",
            "50%     25.000000    3082.000000     1482.000000  4.461153e+06\n",
            "75%     37.500000    6781.500000     3196.000000  7.340946e+06\n",
            "max     50.000000  109008.000000    52070.000000  3.946159e+07\n"
          ],
          "name": "stdout"
        }
      ]
    },
    {
      "cell_type": "code",
      "metadata": {
        "colab": {
          "base_uri": "https://localhost:8080/"
        },
        "id": "XAlRsNDDAJGF",
        "outputId": "c938f5aa-d67a-4687-8b79-f2807e461c77"
      },
      "source": [
        "# Print the values of homelessness\n",
        "print(homelessness.values)\n",
        "\n",
        "# Print the column index of homelessness\n",
        "print(homelessness.columns)\n",
        "\n",
        "# Print the row index of homelessness\n",
        "print(homelessness.index)"
      ],
      "execution_count": 5,
      "outputs": [
        {
          "output_type": "stream",
          "text": [
            "[[0 'East South Central' 'Alabama' 2570.0 864.0 4887681]\n",
            " [1 'Pacific' 'Alaska' 1434.0 582.0 735139]\n",
            " [2 'Mountain' 'Arizona' 7259.0 2606.0 7158024]\n",
            " [3 'West South Central' 'Arkansas' 2280.0 432.0 3009733]\n",
            " [4 'Pacific' 'California' 109008.0 20964.0 39461588]\n",
            " [5 'Mountain' 'Colorado' 7607.0 3250.0 5691287]\n",
            " [6 'New England' 'Connecticut' 2280.0 1696.0 3571520]\n",
            " [7 'South Atlantic' 'Delaware' 708.0 374.0 965479]\n",
            " [8 'South Atlantic' 'District of Columbia' 3770.0 3134.0 701547]\n",
            " [9 'South Atlantic' 'Florida' 21443.0 9587.0 21244317]\n",
            " [10 'South Atlantic' 'Georgia' 6943.0 2556.0 10511131]\n",
            " [11 'Pacific' 'Hawaii' 4131.0 2399.0 1420593]\n",
            " [12 'Mountain' 'Idaho' 1297.0 715.0 1750536]\n",
            " [13 'East North Central' 'Illinois' 6752.0 3891.0 12723071]\n",
            " [14 'East North Central' 'Indiana' 3776.0 1482.0 6695497]\n",
            " [15 'West North Central' 'Iowa' 1711.0 1038.0 3148618]\n",
            " [16 'West North Central' 'Kansas' 1443.0 773.0 2911359]\n",
            " [17 'East South Central' 'Kentucky' 2735.0 953.0 4461153]\n",
            " [18 'West South Central' 'Louisiana' 2540.0 519.0 4659690]\n",
            " [19 'New England' 'Maine' 1450.0 1066.0 1339057]\n",
            " [20 'South Atlantic' 'Maryland' 4914.0 2230.0 6035802]\n",
            " [21 'New England' 'Massachusetts' 6811.0 13257.0 6882635]\n",
            " [22 'East North Central' 'Michigan' 5209.0 3142.0 9984072]\n",
            " [23 'West North Central' 'Minnesota' 3993.0 3250.0 5606249]\n",
            " [24 'East South Central' 'Mississippi' 1024.0 328.0 2981020]\n",
            " [25 'West North Central' 'Missouri' 3776.0 2107.0 6121623]\n",
            " [26 'Mountain' 'Montana' 983.0 422.0 1060665]\n",
            " [27 'West North Central' 'Nebraska' 1745.0 676.0 1925614]\n",
            " [28 'Mountain' 'Nevada' 7058.0 486.0 3027341]\n",
            " [29 'New England' 'New Hampshire' 835.0 615.0 1353465]\n",
            " [30 'Mid-Atlantic' 'New Jersey' 6048.0 3350.0 8886025]\n",
            " [31 'Mountain' 'New Mexico' 1949.0 602.0 2092741]\n",
            " [32 'Mid-Atlantic' 'New York' 39827.0 52070.0 19530351]\n",
            " [33 'South Atlantic' 'North Carolina' 6451.0 2817.0 10381615]\n",
            " [34 'West North Central' 'North Dakota' 467.0 75.0 758080]\n",
            " [35 'East North Central' 'Ohio' 6929.0 3320.0 11676341]\n",
            " [36 'West South Central' 'Oklahoma' 2823.0 1048.0 3940235]\n",
            " [37 'Pacific' 'Oregon' 11139.0 3337.0 4181886]\n",
            " [38 'Mid-Atlantic' 'Pennsylvania' 8163.0 5349.0 12800922]\n",
            " [39 'New England' 'Rhode Island' 747.0 354.0 1058287]\n",
            " [40 'South Atlantic' 'South Carolina' 3082.0 851.0 5084156]\n",
            " [41 'West North Central' 'South Dakota' 836.0 323.0 878698]\n",
            " [42 'East South Central' 'Tennessee' 6139.0 1744.0 6771631]\n",
            " [43 'West South Central' 'Texas' 19199.0 6111.0 28628666]\n",
            " [44 'Mountain' 'Utah' 1904.0 972.0 3153550]\n",
            " [45 'New England' 'Vermont' 780.0 511.0 624358]\n",
            " [46 'South Atlantic' 'Virginia' 3928.0 2047.0 8501286]\n",
            " [47 'Pacific' 'Washington' 16424.0 5880.0 7523869]\n",
            " [48 'South Atlantic' 'West Virginia' 1021.0 222.0 1804291]\n",
            " [49 'East North Central' 'Wisconsin' 2740.0 2167.0 5807406]\n",
            " [50 'Mountain' 'Wyoming' 434.0 205.0 577601]]\n",
            "Index(['Unnamed: 0', 'region', 'state', 'individuals', 'family_members',\n",
            "       'state_pop'],\n",
            "      dtype='object')\n",
            "RangeIndex(start=0, stop=51, step=1)\n"
          ],
          "name": "stdout"
        }
      ]
    },
    {
      "cell_type": "markdown",
      "metadata": {
        "id": "aXxuzr2JEcjt"
      },
      "source": [
        "## Sorting rows"
      ]
    },
    {
      "cell_type": "markdown",
      "metadata": {
        "id": "WT948gRPEaPJ"
      },
      "source": [
        "\n",
        "Finding interesting bits of data in a DataFrame is often easier if you change the order of the rows. You can sort the rows by passing a column name to .sort_values().\n",
        "\n",
        "In cases where rows have the same value (this is common if you sort on a categorical variable), you may wish to break the ties by sorting on another column. You can sort on multiple columns in this way by passing a list of column names.\n",
        "\n",
        "* one column\tdf.sort_values(\"breed\")\n",
        "* multiple columns\tdf.sort_values([\"breed\", \"weight_kg\"])\n",
        "\n",
        "By combining .sort_values() with .head(), you can answer questions in the form, \"What are the top cases where…?\"."
      ]
    },
    {
      "cell_type": "code",
      "metadata": {
        "colab": {
          "base_uri": "https://localhost:8080/"
        },
        "id": "F5gHiJJPBKmS",
        "outputId": "0f076900-6576-43a7-ee7c-1764bc8b8791"
      },
      "source": [
        "# Sort homelessness by individual\n",
        "homelessness_ind = homelessness.sort_values('individuals')\n",
        "\n",
        "# Print the top few rows\n",
        "print(homelessness_ind.head())"
      ],
      "execution_count": 6,
      "outputs": [
        {
          "output_type": "stream",
          "text": [
            "    Unnamed: 0              region  ... family_members  state_pop\n",
            "50          50            Mountain  ...          205.0     577601\n",
            "34          34  West North Central  ...           75.0     758080\n",
            "7            7      South Atlantic  ...          374.0     965479\n",
            "39          39         New England  ...          354.0    1058287\n",
            "45          45         New England  ...          511.0     624358\n",
            "\n",
            "[5 rows x 6 columns]\n"
          ],
          "name": "stdout"
        }
      ]
    },
    {
      "cell_type": "code",
      "metadata": {
        "colab": {
          "base_uri": "https://localhost:8080/"
        },
        "id": "eqVrdb3yFcpj",
        "outputId": "222af13d-599b-4fe0-a9e5-da518d93be18"
      },
      "source": [
        "# Sort homelessness by descending family members\n",
        "homelessness_fam = homelessness.sort_values(\"family_members\",ascending=False)\n",
        "\n",
        "# Print the top few rows\n",
        "print(homelessness_fam.head())"
      ],
      "execution_count": 7,
      "outputs": [
        {
          "output_type": "stream",
          "text": [
            "    Unnamed: 0              region  ... family_members  state_pop\n",
            "32          32        Mid-Atlantic  ...        52070.0   19530351\n",
            "4            4             Pacific  ...        20964.0   39461588\n",
            "21          21         New England  ...        13257.0    6882635\n",
            "9            9      South Atlantic  ...         9587.0   21244317\n",
            "43          43  West South Central  ...         6111.0   28628666\n",
            "\n",
            "[5 rows x 6 columns]\n"
          ],
          "name": "stdout"
        }
      ]
    },
    {
      "cell_type": "code",
      "metadata": {
        "colab": {
          "base_uri": "https://localhost:8080/"
        },
        "id": "-NsuoPxbGHse",
        "outputId": "ae4dcbb5-03ff-4602-fa26-0a9a252b9dc9"
      },
      "source": [
        "# Sort homelessness by region, then descending family members\n",
        "homelessness_reg_fam = homelessness.sort_values([\"region\",\"family_members\"],ascending=[True, False])\n",
        "\n",
        "# Print the top few rows\n",
        "print(homelessness_reg_fam.head(5))"
      ],
      "execution_count": 8,
      "outputs": [
        {
          "output_type": "stream",
          "text": [
            "    Unnamed: 0              region  ... family_members  state_pop\n",
            "13          13  East North Central  ...         3891.0   12723071\n",
            "35          35  East North Central  ...         3320.0   11676341\n",
            "22          22  East North Central  ...         3142.0    9984072\n",
            "49          49  East North Central  ...         2167.0    5807406\n",
            "14          14  East North Central  ...         1482.0    6695497\n",
            "\n",
            "[5 rows x 6 columns]\n"
          ],
          "name": "stdout"
        }
      ]
    },
    {
      "cell_type": "markdown",
      "metadata": {
        "id": "Qvz-YnstHI6T"
      },
      "source": [
        "## Subsetting columns"
      ]
    },
    {
      "cell_type": "markdown",
      "metadata": {
        "id": "HjfPWY74HWWZ"
      },
      "source": [
        "When working with data, you may not need all of the variables in your dataset. Square brackets ([]) can be used to select only the columns that matter to you in an order that makes sense to you. \n",
        "\n",
        "To select only \"col_a\" of the DataFrame df, use\n",
        "* df[\"col_a\"]\n",
        "\n",
        "To select \"col_a\" and \"col_b\" of df, use\n",
        "* df[[\"col_a\", \"col_b\"]]"
      ]
    },
    {
      "cell_type": "code",
      "metadata": {
        "colab": {
          "base_uri": "https://localhost:8080/"
        },
        "id": "6ARXG9aQG6ye",
        "outputId": "491694d4-6f24-44e8-b58e-5a15a6dc09ef"
      },
      "source": [
        "# Select the individuals column\n",
        "individuals = homelessness['individuals']\n",
        "\n",
        "# Print the head of the result\n",
        "print(individuals.head())"
      ],
      "execution_count": 9,
      "outputs": [
        {
          "output_type": "stream",
          "text": [
            "0      2570.0\n",
            "1      1434.0\n",
            "2      7259.0\n",
            "3      2280.0\n",
            "4    109008.0\n",
            "Name: individuals, dtype: float64\n"
          ],
          "name": "stdout"
        }
      ]
    },
    {
      "cell_type": "code",
      "metadata": {
        "colab": {
          "base_uri": "https://localhost:8080/"
        },
        "id": "l5TD3WYZIZqO",
        "outputId": "3f4a5df4-9dc6-46de-ec94-167dd8be0ab2"
      },
      "source": [
        "# Select the state and family_members columns\n",
        "state_fam = homelessness[[\"state\", \"family_members\"]]\n",
        "\n",
        "# Print the head of the result\n",
        "print(state_fam.head())"
      ],
      "execution_count": 10,
      "outputs": [
        {
          "output_type": "stream",
          "text": [
            "        state  family_members\n",
            "0     Alabama           864.0\n",
            "1      Alaska           582.0\n",
            "2     Arizona          2606.0\n",
            "3    Arkansas           432.0\n",
            "4  California         20964.0\n"
          ],
          "name": "stdout"
        }
      ]
    },
    {
      "cell_type": "markdown",
      "metadata": {
        "id": "t3gJ7lNZIzP3"
      },
      "source": [
        "## Subsetting rows"
      ]
    },
    {
      "cell_type": "markdown",
      "metadata": {
        "id": "WMB-MaxAJJ-h"
      },
      "source": [
        "A large part of data science is about finding which bits of your dataset are interesting. One of the simplest techniques for this is to find a subset of rows that match some criteria. This is sometimes known as filtering rows or selecting rows.\n",
        "\n",
        "There are many ways to subset a DataFrame, perhaps the most common is to use relational operators to return True or False for each row, then pass that inside square brackets.\n",
        "\n",
        "* dogs[dogs[\"height_cm\"] > 60]\n",
        "* dogs[dogs[\"color\"] == \"tan\"]\n",
        "\n",
        "You can filter for multiple conditions at once by using the bitwise and operator, &.\n",
        "\n",
        "* dogs[(dogs[\"height_cm\"] > 60) & (dogs[\"color\"] == \"tan\")]"
      ]
    },
    {
      "cell_type": "code",
      "metadata": {
        "colab": {
          "base_uri": "https://localhost:8080/"
        },
        "id": "58aueqD6IaZy",
        "outputId": "d4df627f-e502-4fd6-a981-083324c24594"
      },
      "source": [
        "# Filter for rows where individuals is greater than 10000\n",
        "ind_gt_10k = homelessness[homelessness[\"individuals\"]>10000]\n",
        "\n",
        "# See the result\n",
        "print(ind_gt_10k)"
      ],
      "execution_count": 11,
      "outputs": [
        {
          "output_type": "stream",
          "text": [
            "    Unnamed: 0              region  ... family_members  state_pop\n",
            "4            4             Pacific  ...        20964.0   39461588\n",
            "9            9      South Atlantic  ...         9587.0   21244317\n",
            "32          32        Mid-Atlantic  ...        52070.0   19530351\n",
            "37          37             Pacific  ...         3337.0    4181886\n",
            "43          43  West South Central  ...         6111.0   28628666\n",
            "47          47             Pacific  ...         5880.0    7523869\n",
            "\n",
            "[6 rows x 6 columns]\n"
          ],
          "name": "stdout"
        }
      ]
    },
    {
      "cell_type": "code",
      "metadata": {
        "colab": {
          "base_uri": "https://localhost:8080/"
        },
        "id": "gnL18OwvKN7p",
        "outputId": "49c521d8-ac84-47e9-83c9-1f3866c0b4f4"
      },
      "source": [
        "# Filter for rows where region is Mountain\n",
        "mountain_reg = homelessness[homelessness[\"region\"]==\"Mountain\"]\n",
        "# See the result\n",
        "print(mountain_reg)"
      ],
      "execution_count": 12,
      "outputs": [
        {
          "output_type": "stream",
          "text": [
            "    Unnamed: 0    region       state  individuals  family_members  state_pop\n",
            "2            2  Mountain     Arizona       7259.0          2606.0    7158024\n",
            "5            5  Mountain    Colorado       7607.0          3250.0    5691287\n",
            "12          12  Mountain       Idaho       1297.0           715.0    1750536\n",
            "26          26  Mountain     Montana        983.0           422.0    1060665\n",
            "28          28  Mountain      Nevada       7058.0           486.0    3027341\n",
            "31          31  Mountain  New Mexico       1949.0           602.0    2092741\n",
            "44          44  Mountain        Utah       1904.0           972.0    3153550\n",
            "50          50  Mountain     Wyoming        434.0           205.0     577601\n"
          ],
          "name": "stdout"
        }
      ]
    },
    {
      "cell_type": "code",
      "metadata": {
        "colab": {
          "base_uri": "https://localhost:8080/"
        },
        "id": "jtjmcC4CK2WO",
        "outputId": "0e622401-5843-47cb-daed-d29b9e619db4"
      },
      "source": [
        "# Filter for rows where family_members is less than 1000 and region is Pacific\n",
        "fam_lt_1k_pac = homelessness[(homelessness[\"family_members\"]<1000) &\n",
        "                             (homelessness[\"region\"]==\"Pacific\")  ]\n",
        "\n",
        "# See the result\n",
        "print(fam_lt_1k_pac)"
      ],
      "execution_count": 13,
      "outputs": [
        {
          "output_type": "stream",
          "text": [
            "   Unnamed: 0   region   state  individuals  family_members  state_pop\n",
            "1           1  Pacific  Alaska       1434.0           582.0     735139\n"
          ],
          "name": "stdout"
        }
      ]
    },
    {
      "cell_type": "markdown",
      "metadata": {
        "id": "zTgmcV2KLlNC"
      },
      "source": [
        "## Subsetting rows by categorical variables"
      ]
    },
    {
      "cell_type": "markdown",
      "metadata": {
        "id": "_HsfKnJDM0LR"
      },
      "source": [
        "Subsetting data based on a categorical variable often involves using the \"or\" operator (|) to select rows from multiple categories. \n",
        "\n",
        "This can get tedious when you want all states in one of three different regions, for example. Instead, use the .isin() method, which will allow you to tackle this problem by writing one condition instead of three separate ones.\n",
        "\n",
        "> colors = [\"brown\", \"black\", \"tan\"]\n",
        "\n",
        "> condition = dogs[\"color\"].isin(colors)\n",
        "\n",
        "> dogs[condition]\n"
      ]
    },
    {
      "cell_type": "code",
      "metadata": {
        "colab": {
          "base_uri": "https://localhost:8080/"
        },
        "id": "kZtmwnU5Mzi0",
        "outputId": "c36ec585-2dfc-4962-a2f7-1d01f60c9e1a"
      },
      "source": [
        "# Subset for rows in South Atlantic or Mid-Atlantic regions\n",
        "south_mid_atlantic = homelessness[homelessness[\"region\"].isin([\"South Atlantic\", \"Mid-Atlantic\"])]\n",
        "\n",
        "# See the result\n",
        "print(south_mid_atlantic)"
      ],
      "execution_count": 14,
      "outputs": [
        {
          "output_type": "stream",
          "text": [
            "    Unnamed: 0          region  ... family_members  state_pop\n",
            "7            7  South Atlantic  ...          374.0     965479\n",
            "8            8  South Atlantic  ...         3134.0     701547\n",
            "9            9  South Atlantic  ...         9587.0   21244317\n",
            "10          10  South Atlantic  ...         2556.0   10511131\n",
            "20          20  South Atlantic  ...         2230.0    6035802\n",
            "30          30    Mid-Atlantic  ...         3350.0    8886025\n",
            "32          32    Mid-Atlantic  ...        52070.0   19530351\n",
            "33          33  South Atlantic  ...         2817.0   10381615\n",
            "38          38    Mid-Atlantic  ...         5349.0   12800922\n",
            "40          40  South Atlantic  ...          851.0    5084156\n",
            "46          46  South Atlantic  ...         2047.0    8501286\n",
            "48          48  South Atlantic  ...          222.0    1804291\n",
            "\n",
            "[12 rows x 6 columns]\n"
          ],
          "name": "stdout"
        }
      ]
    },
    {
      "cell_type": "code",
      "metadata": {
        "colab": {
          "base_uri": "https://localhost:8080/"
        },
        "id": "ALgThy3HLagr",
        "outputId": "2971cf3c-ebcf-4749-857a-d0ba4474a6d1"
      },
      "source": [
        "# The Mojave Desert states\n",
        "canu = [\"California\", \"Arizona\", \"Nevada\", \"Utah\"]\n",
        "\n",
        "# Filter for rows in the Mojave Desert states\n",
        "mojave_homelessness = homelessness[homelessness[\"state\"].isin(canu)]\n",
        "# See the result\n",
        "print(mojave_homelessness)"
      ],
      "execution_count": 15,
      "outputs": [
        {
          "output_type": "stream",
          "text": [
            "    Unnamed: 0    region       state  individuals  family_members  state_pop\n",
            "2            2  Mountain     Arizona       7259.0          2606.0    7158024\n",
            "4            4   Pacific  California     109008.0         20964.0   39461588\n",
            "28          28  Mountain      Nevada       7058.0           486.0    3027341\n",
            "44          44  Mountain        Utah       1904.0           972.0    3153550\n"
          ],
          "name": "stdout"
        }
      ]
    },
    {
      "cell_type": "markdown",
      "metadata": {
        "id": "oUodpA9IPGkB"
      },
      "source": [
        "## Adding new columns"
      ]
    },
    {
      "cell_type": "markdown",
      "metadata": {
        "id": "vBze_dPZPTY5"
      },
      "source": [
        "You can create new columns from scratch, but it is also common to derive them from other columns, for example, by adding columns together or by changing their units."
      ]
    },
    {
      "cell_type": "code",
      "metadata": {
        "colab": {
          "base_uri": "https://localhost:8080/"
        },
        "id": "3TcprANQPT7m",
        "outputId": "00afbb89-d66d-49ef-92e9-7e550f983f4a"
      },
      "source": [
        "# Add total col as sum of individuals and family_members\n",
        "homelessness[\"total\"]=homelessness[\"individuals\"]+homelessness[\"family_members\"]\n",
        "\n",
        "# Add p_individuals col as proportion of individuals\n",
        "homelessness[\"p_individuals\"]=homelessness[\"individuals\"]/homelessness[\"total\"]\n",
        "\n",
        "# See the result\n",
        "print(homelessness)"
      ],
      "execution_count": 16,
      "outputs": [
        {
          "output_type": "stream",
          "text": [
            "    Unnamed: 0              region  ...     total  p_individuals\n",
            "0            0  East South Central  ...    3434.0       0.748398\n",
            "1            1             Pacific  ...    2016.0       0.711310\n",
            "2            2            Mountain  ...    9865.0       0.735834\n",
            "3            3  West South Central  ...    2712.0       0.840708\n",
            "4            4             Pacific  ...  129972.0       0.838704\n",
            "5            5            Mountain  ...   10857.0       0.700654\n",
            "6            6         New England  ...    3976.0       0.573441\n",
            "7            7      South Atlantic  ...    1082.0       0.654344\n",
            "8            8      South Atlantic  ...    6904.0       0.546060\n",
            "9            9      South Atlantic  ...   31030.0       0.691041\n",
            "10          10      South Atlantic  ...    9499.0       0.730919\n",
            "11          11             Pacific  ...    6530.0       0.632619\n",
            "12          12            Mountain  ...    2012.0       0.644632\n",
            "13          13  East North Central  ...   10643.0       0.634408\n",
            "14          14  East North Central  ...    5258.0       0.718144\n",
            "15          15  West North Central  ...    2749.0       0.622408\n",
            "16          16  West North Central  ...    2216.0       0.651173\n",
            "17          17  East South Central  ...    3688.0       0.741594\n",
            "18          18  West South Central  ...    3059.0       0.830337\n",
            "19          19         New England  ...    2516.0       0.576312\n",
            "20          20      South Atlantic  ...    7144.0       0.687850\n",
            "21          21         New England  ...   20068.0       0.339396\n",
            "22          22  East North Central  ...    8351.0       0.623758\n",
            "23          23  West North Central  ...    7243.0       0.551291\n",
            "24          24  East South Central  ...    1352.0       0.757396\n",
            "25          25  West North Central  ...    5883.0       0.641849\n",
            "26          26            Mountain  ...    1405.0       0.699644\n",
            "27          27  West North Central  ...    2421.0       0.720777\n",
            "28          28            Mountain  ...    7544.0       0.935578\n",
            "29          29         New England  ...    1450.0       0.575862\n",
            "30          30        Mid-Atlantic  ...    9398.0       0.643541\n",
            "31          31            Mountain  ...    2551.0       0.764014\n",
            "32          32        Mid-Atlantic  ...   91897.0       0.433387\n",
            "33          33      South Atlantic  ...    9268.0       0.696051\n",
            "34          34  West North Central  ...     542.0       0.861624\n",
            "35          35  East North Central  ...   10249.0       0.676066\n",
            "36          36  West South Central  ...    3871.0       0.729269\n",
            "37          37             Pacific  ...   14476.0       0.769481\n",
            "38          38        Mid-Atlantic  ...   13512.0       0.604130\n",
            "39          39         New England  ...    1101.0       0.678474\n",
            "40          40      South Atlantic  ...    3933.0       0.783626\n",
            "41          41  West North Central  ...    1159.0       0.721311\n",
            "42          42  East South Central  ...    7883.0       0.778764\n",
            "43          43  West South Central  ...   25310.0       0.758554\n",
            "44          44            Mountain  ...    2876.0       0.662031\n",
            "45          45         New England  ...    1291.0       0.604183\n",
            "46          46      South Atlantic  ...    5975.0       0.657406\n",
            "47          47             Pacific  ...   22304.0       0.736370\n",
            "48          48      South Atlantic  ...    1243.0       0.821400\n",
            "49          49  East North Central  ...    4907.0       0.558386\n",
            "50          50            Mountain  ...     639.0       0.679186\n",
            "\n",
            "[51 rows x 8 columns]\n"
          ],
          "name": "stdout"
        }
      ]
    },
    {
      "cell_type": "markdown",
      "metadata": {
        "id": "sMsTW1BDQeoW"
      },
      "source": [
        "You've seen the four most common types of data manipulation: sorting rows, subsetting columns, subsetting rows, and adding new columns. In a real-life data analysis, you can mix and match these four manipulations to answer a multitude of questions.\n",
        "\n",
        "In this exercise, you'll answer the question, \"Which state has the highest number of homeless individuals per 10,000 people in the state?\" Combine your new pandas skills to find out."
      ]
    },
    {
      "cell_type": "code",
      "metadata": {
        "colab": {
          "base_uri": "https://localhost:8080/"
        },
        "id": "pmC5gmcMQPqv",
        "outputId": "4dbb8c60-1c52-40b4-bce6-29e8715d6d7b"
      },
      "source": [
        "# Create indiv_per_10k col as homeless individuals per 10k state pop\n",
        "homelessness[\"indiv_per_10k\"] = 10000 * homelessness[\"individuals\"] / homelessness[\"state_pop\"]\n",
        "\n",
        "# Subset rows for indiv_per_10k greater than 20\n",
        "high_homelessness = homelessness[homelessness[\"indiv_per_10k\"]>20]\n",
        "\n",
        "# Sort high_homelessness by descending indiv_per_10k\n",
        "high_homelessness_srt = high_homelessness.sort_values(\"indiv_per_10k\",ascending=False)\n",
        "\n",
        "# From high_homelessness_srt, select the state and indiv_per_10k cols\n",
        "result = high_homelessness_srt[[\"state\",\"indiv_per_10k\"]]\n",
        "\n",
        "# See the result\n",
        "print(result)"
      ],
      "execution_count": 17,
      "outputs": [
        {
          "output_type": "stream",
          "text": [
            "                   state  indiv_per_10k\n",
            "8   District of Columbia      53.738381\n",
            "11                Hawaii      29.079406\n",
            "4             California      27.623825\n",
            "37                Oregon      26.636307\n",
            "28                Nevada      23.314189\n",
            "47            Washington      21.829195\n",
            "32              New York      20.392363\n"
          ],
          "name": "stdout"
        }
      ]
    },
    {
      "cell_type": "markdown",
      "metadata": {
        "id": "niXAoJgRWJEl"
      },
      "source": [
        "# Aggregating Data"
      ]
    },
    {
      "cell_type": "markdown",
      "metadata": {
        "id": "8298iaE0WRLm"
      },
      "source": [
        "## Summary Statistics"
      ]
    },
    {
      "cell_type": "markdown",
      "metadata": {
        "id": "RH0vF7kMtiOt"
      },
      "source": [
        "### Mean and median\n",
        "Summary statistics are exactly what they sound like - they summarize many numbers in one statistic. For example, mean, median, minimum, maximum, and standard deviation are summary statistics. Calculating summary statistics allows you to get a better sense of your data, even if there's a lot of it."
      ]
    },
    {
      "cell_type": "code",
      "metadata": {
        "id": "11W1xRGMSoFm"
      },
      "source": [
        "url3='https://drive.google.com/file/d/11EYD35OZWKy6cpMoE4FCZtYfiZlKskP0/view?usp=sharing'\n",
        "url4='https://drive.google.com/uc?id=' + url3.split('/')[-2]\n",
        "sales = pd.read_csv(url4)"
      ],
      "execution_count": 18,
      "outputs": []
    },
    {
      "cell_type": "code",
      "metadata": {
        "colab": {
          "base_uri": "https://localhost:8080/"
        },
        "id": "6wiYPle2thG6",
        "outputId": "0433e115-8aa0-4662-f610-6155aee5b375"
      },
      "source": [
        "# Print the head of the sales DataFrame\n",
        "print(sales.head())\n",
        "\n",
        "# Print the info about the sales DataFrame\n",
        "print(sales.info())\n",
        "\n",
        "# Print the mean of weekly_sales\n",
        "print(sales['weekly_sales'].mean())\n",
        "\n",
        "# Print the median of weekly_sales\n",
        "print(sales['weekly_sales'].median())"
      ],
      "execution_count": 19,
      "outputs": [
        {
          "output_type": "stream",
          "text": [
            "   Unnamed: 0  store type  ...  temperature_c fuel_price_usd_per_l  unemployment\n",
            "0           0      1    A  ...       5.727778             0.679451         8.106\n",
            "1           1      1    A  ...       8.055556             0.693452         8.106\n",
            "2           2      1    A  ...      16.816667             0.718284         7.808\n",
            "3           3      1    A  ...      22.527778             0.748928         7.808\n",
            "4           4      1    A  ...      27.050000             0.714586         7.808\n",
            "\n",
            "[5 rows x 10 columns]\n",
            "<class 'pandas.core.frame.DataFrame'>\n",
            "RangeIndex: 10774 entries, 0 to 10773\n",
            "Data columns (total 10 columns):\n",
            " #   Column                Non-Null Count  Dtype  \n",
            "---  ------                --------------  -----  \n",
            " 0   Unnamed: 0            10774 non-null  int64  \n",
            " 1   store                 10774 non-null  int64  \n",
            " 2   type                  10774 non-null  object \n",
            " 3   department            10774 non-null  int64  \n",
            " 4   date                  10774 non-null  object \n",
            " 5   weekly_sales          10774 non-null  float64\n",
            " 6   is_holiday            10774 non-null  bool   \n",
            " 7   temperature_c         10774 non-null  float64\n",
            " 8   fuel_price_usd_per_l  10774 non-null  float64\n",
            " 9   unemployment          10774 non-null  float64\n",
            "dtypes: bool(1), float64(4), int64(3), object(2)\n",
            "memory usage: 768.2+ KB\n",
            "None\n",
            "23843.950148505668\n",
            "12049.064999999999\n"
          ],
          "name": "stdout"
        }
      ]
    },
    {
      "cell_type": "markdown",
      "metadata": {
        "id": "k4ssOkraul44"
      },
      "source": [
        "### Summarizing dates\n",
        "\n",
        "Summary statistics can also be calculated on date columns that have values with the data type datetime64. Some summary statistics — like mean — don't make a ton of sense on dates, but others are super helpful, for example, minimum and maximum, which allow you to see what time range your data covers."
      ]
    },
    {
      "cell_type": "code",
      "metadata": {
        "colab": {
          "base_uri": "https://localhost:8080/"
        },
        "id": "nYDhARlcuOdT",
        "outputId": "97c13d59-9d39-4190-f97a-e94be5979e3b"
      },
      "source": [
        "# Print the maximum of the date column\n",
        "print(sales['date'].max())\n",
        "\n",
        "# Print the minimum of the date column\n",
        "print(sales['date'].min())"
      ],
      "execution_count": 20,
      "outputs": [
        {
          "output_type": "stream",
          "text": [
            "2012-10-26\n",
            "2010-02-05\n"
          ],
          "name": "stdout"
        }
      ]
    },
    {
      "cell_type": "markdown",
      "metadata": {
        "id": "bxdj2KZ8u_bX"
      },
      "source": [
        "### Efficient summaries\n",
        "While pandas and NumPy have tons of functions, sometimes, you may need a different function to summarize your data.\n",
        "\n",
        "The .agg() method allows you to apply your own custom functions to a DataFrame, as well as apply functions to more than one column of a DataFrame at once, making your aggregations super-efficient. For example,\n",
        "\n",
        "* df['column'].agg(function)\n",
        "\n",
        "In the custom function for this exercise, \"IQR\" is short for inter-quartile range, which is the 75th percentile minus the 25th percentile. It's an alternative to standard deviation that is helpful if your data contains outliers."
      ]
    },
    {
      "cell_type": "code",
      "metadata": {
        "colab": {
          "base_uri": "https://localhost:8080/"
        },
        "id": "mF3FaGxAu4ak",
        "outputId": "4c922b29-4f1c-4283-9ad8-30d468fc6be4"
      },
      "source": [
        "# A custom IQR function\n",
        "def iqr(column):\n",
        "    return column.quantile(0.75) - column.quantile(0.25)\n",
        "    \n",
        "# Print IQR of the temperature_c column\n",
        "print(sales['temperature_c'].agg(iqr))\n",
        "\n",
        "# Update to print IQR and median of temperature_c, fuel_price_usd_per_l, & unemployment\n",
        "print(sales[[\"temperature_c\", \"fuel_price_usd_per_l\", \"unemployment\"]].agg([iqr, np.median]))"
      ],
      "execution_count": 21,
      "outputs": [
        {
          "output_type": "stream",
          "text": [
            "16.58333333333334\n",
            "        temperature_c  fuel_price_usd_per_l  unemployment\n",
            "iqr         16.583333              0.073176         0.565\n",
            "median      16.966667              0.743381         8.099\n"
          ],
          "name": "stdout"
        }
      ]
    },
    {
      "cell_type": "markdown",
      "metadata": {
        "id": "3GGM8CJlxBV-"
      },
      "source": [
        "### Cumulative statistics\n",
        "Cumulative statistics can also be helpful in tracking summary statistics over time. In this exercise, you'll calculate the cumulative sum and cumulative max of a department's weekly sales, which will allow you to identify what the total sales were so far as well as what the highest weekly sales were so far.\n",
        "\n",
        "A DataFrame called sales_1_1 has been created for you, which contains the sales data for department 1 of store 1. pandas is loaded as pd."
      ]
    },
    {
      "cell_type": "markdown",
      "metadata": {
        "id": "IUmA0MBixVsq"
      },
      "source": [
        "Sort the rows of sales_1_1 by the date column in ascending order.\n",
        "\n",
        "Get the cumulative sum of weekly_sales and add it as a new column of sales_1_1 called cum_weekly_sales.\n",
        "\n",
        "Get the cumulative maximum of weekly_sales, and add it as a column called cum_max_sales.\n",
        "\n",
        "Print the date, weekly_sales, cum_weekly_sales, and cum_max_sales"
      ]
    },
    {
      "cell_type": "code",
      "metadata": {
        "colab": {
          "base_uri": "https://localhost:8080/"
        },
        "id": "lD9MZEYsvm_C",
        "outputId": "124740a7-8bda-4f8d-e7ff-e110c17aadd4"
      },
      "source": [
        "# Sort sales_1_1 by date\n",
        "sales_1_1 =sales.sort_values('date')\n",
        "\n",
        "# Get the cumulative sum of weekly_sales, add as cum_weekly_sales col\n",
        "sales_1_1['cum_weekly_sales'] = sales_1_1['weekly_sales'].cumsum()\n",
        "\n",
        "# Get the cumulative max of weekly_sales, add as cum_max_sales col\n",
        "sales_1_1['cum_max_sales'] = sales_1_1['weekly_sales'].cummax()\n",
        "\n",
        "# See the columns you calculated\n",
        "print(sales_1_1[[\"date\", \"weekly_sales\", \"cum_weekly_sales\", \"cum_max_sales\"]])"
      ],
      "execution_count": 22,
      "outputs": [
        {
          "output_type": "stream",
          "text": [
            "             date  weekly_sales  cum_weekly_sales  cum_max_sales\n",
            "0      2010-02-05      24924.50      2.492450e+04       24924.50\n",
            "6437   2010-02-05      38597.52      6.352202e+04       38597.52\n",
            "1249   2010-02-05       3840.21      6.736223e+04       38597.52\n",
            "6449   2010-02-05      17590.59      8.495282e+04       38597.52\n",
            "6461   2010-02-05       4929.87      8.988269e+04       38597.52\n",
            "...           ...           ...               ...            ...\n",
            "3592   2012-10-05        440.00      2.568932e+08      293966.05\n",
            "8108   2012-10-05        660.00      2.568938e+08      293966.05\n",
            "10773  2012-10-05        915.00      2.568947e+08      293966.05\n",
            "6257   2012-10-12          3.00      2.568947e+08      293966.05\n",
            "3384   2012-10-26        -21.63      2.568947e+08      293966.05\n",
            "\n",
            "[10774 rows x 4 columns]\n"
          ],
          "name": "stdout"
        }
      ]
    },
    {
      "cell_type": "markdown",
      "metadata": {
        "id": "GBpvm5ExDK4i"
      },
      "source": [
        "## Dropping duplicates\n",
        "Removing duplicates is an essential skill to get accurate counts because often, you don't want to count the same thing multiple times. In this exercise, you'll create some new DataFrames using unique values from sales."
      ]
    },
    {
      "cell_type": "code",
      "metadata": {
        "colab": {
          "base_uri": "https://localhost:8080/"
        },
        "id": "YcEat_oAHaoD",
        "outputId": "4b1afa57-d46a-439a-cccb-8075660f3d20"
      },
      "source": [
        "# Drop duplicate store/type combinations\n",
        "store_types = sales.drop_duplicates(subset=[\"store\",\"type\"])\n",
        "print (store_types.head(5))\n",
        "\n",
        "# Drop duplicate store/department combinations\n",
        "store_depts = sales.drop_duplicates(subset=[\"store\",\"department\"])\n",
        "print(store_depts.head())\n",
        "\n",
        "# Subset the rows where is_holiday is True and drop duplicate dates\n",
        "holiday_dates = sales[sales[\"is_holiday\"]].drop_duplicates(subset=[\"date\"])\n",
        "\n",
        "# Print date col of holiday_dates\n",
        "print(holiday_dates[[\"date\"]])"
      ],
      "execution_count": 23,
      "outputs": [
        {
          "output_type": "stream",
          "text": [
            "      Unnamed: 0  store type  ...  temperature_c fuel_price_usd_per_l  unemployment\n",
            "0              0      1    A  ...       5.727778             0.679451         8.106\n",
            "901          901      2    A  ...       4.550000             0.679451         8.324\n",
            "1798        1798      4    A  ...       6.533333             0.686319         8.623\n",
            "2699        2699      6    A  ...       4.683333             0.679451         7.259\n",
            "3593        3593     10    B  ...      12.411111             0.782478         9.765\n",
            "\n",
            "[5 rows x 10 columns]\n",
            "    Unnamed: 0  store type  ...  temperature_c fuel_price_usd_per_l  unemployment\n",
            "0            0      1    A  ...       5.727778             0.679451         8.106\n",
            "12          12      1    A  ...       5.727778             0.679451         8.106\n",
            "24          24      1    A  ...       5.727778             0.679451         8.106\n",
            "36          36      1    A  ...       5.727778             0.679451         8.106\n",
            "48          48      1    A  ...       5.727778             0.679451         8.106\n",
            "\n",
            "[5 rows x 10 columns]\n",
            "            date\n",
            "498   2010-09-10\n",
            "691   2011-11-25\n",
            "2315  2010-02-12\n",
            "6735  2012-09-07\n",
            "6810  2010-12-31\n",
            "6815  2012-02-10\n",
            "6820  2011-09-09\n"
          ],
          "name": "stdout"
        }
      ]
    },
    {
      "cell_type": "markdown",
      "metadata": {
        "id": "sKc1dQffK49R"
      },
      "source": [
        "### Counting categorical variables\n",
        "Counting is a great way to get an overview of your data and to spot curiosities that you might not notice otherwise. In this exercise, you'll count the number of each type of store and the number of each department number using the DataFrames you created in the previous exercise"
      ]
    },
    {
      "cell_type": "code",
      "metadata": {
        "id": "QiMWKE-nJUEJ",
        "colab": {
          "base_uri": "https://localhost:8080/"
        },
        "outputId": "8e464fd7-2d3c-4c89-8630-07036d2e4995"
      },
      "source": [
        "# Count the number of stores of each type\n",
        "store_counts = store_types[\"type\"].value_counts()\n",
        "print(store_counts)\n",
        "\n",
        "# Get the proportion of stores of each type\n",
        "store_props = store_types[\"type\"].value_counts(normalize=True)\n",
        "print(store_props)\n",
        "\n",
        "# Count the number of each department number and sort\n",
        "dept_counts_sorted = store_depts[\"department\"].value_counts(sort=True)\n",
        "print(dept_counts_sorted)\n",
        "\n",
        "# Get the proportion of departments of each number and sort\n",
        "dept_props_sorted = store_depts[\"department\"].value_counts(sort=True, normalize=True)\n",
        "print(dept_props_sorted)"
      ],
      "execution_count": 24,
      "outputs": [
        {
          "output_type": "stream",
          "text": [
            "A    11\n",
            "B     1\n",
            "Name: type, dtype: int64\n",
            "A    0.916667\n",
            "B    0.083333\n",
            "Name: type, dtype: float64\n",
            "41    12\n",
            "30    12\n",
            "23    12\n",
            "24    12\n",
            "25    12\n",
            "      ..\n",
            "37    10\n",
            "48     8\n",
            "50     6\n",
            "39     4\n",
            "43     2\n",
            "Name: department, Length: 80, dtype: int64\n",
            "41    0.012917\n",
            "30    0.012917\n",
            "23    0.012917\n",
            "24    0.012917\n",
            "25    0.012917\n",
            "        ...   \n",
            "37    0.010764\n",
            "48    0.008611\n",
            "50    0.006459\n",
            "39    0.004306\n",
            "43    0.002153\n",
            "Name: department, Length: 80, dtype: float64\n"
          ],
          "name": "stdout"
        }
      ]
    },
    {
      "cell_type": "markdown",
      "metadata": {
        "id": "Y49U65TANmav"
      },
      "source": [
        "## Group By\n",
        "\n",
        "What percent of sales occurred at each store type?\n",
        "While .groupby() is useful, you can calculate grouped summary statistics without it.\n",
        "\n",
        "Walmart distinguishes three types of stores: \"supercenters,\" \"discount stores,\" and \"neighborhood markets,\" encoded in this dataset as type \"A,\" \"B,\" and \"C.\" In this exercise, you'll calculate the total sales made at each store type, without using .groupby(). You can then use these numbers to see what proportion of Walmart's total sales were made at each type."
      ]
    },
    {
      "cell_type": "code",
      "metadata": {
        "colab": {
          "base_uri": "https://localhost:8080/"
        },
        "id": "06t6Ihj0Qa9H",
        "outputId": "6763f341-4679-441b-d38d-2cb2dee0178c"
      },
      "source": [
        "# Calc total weekly sales\n",
        "sales_all = sales[\"weekly_sales\"].sum()\n",
        "\n",
        "# Subset for type A stores, calc total weekly sales\n",
        "sales_A = sales[sales[\"type\"] == \"A\"][\"weekly_sales\"].sum()\n",
        "\n",
        "# Subset for type B stores, calc total weekly sales\n",
        "sales_B = sales[sales[\"type\"] == \"B\"][\"weekly_sales\"].sum()\n",
        "\n",
        "# Subset for type C stores, calc total weekly sales\n",
        "sales_C = sales[sales[\"type\"] == \"C\"][\"weekly_sales\"].sum()\n",
        "\n",
        "# Get proportion for each type\n",
        "sales_propn_by_type = [sales_A, sales_B, sales_C] / (sales_A+ sales_B+ sales_C)\n",
        "print(sales_propn_by_type)"
      ],
      "execution_count": 25,
      "outputs": [
        {
          "output_type": "stream",
          "text": [
            "[0.9097747 0.0902253 0.       ]\n"
          ],
          "name": "stdout"
        }
      ]
    },
    {
      "cell_type": "markdown",
      "metadata": {
        "id": "LLIrR6KRQm0z"
      },
      "source": [
        "The .groupby() method makes life much easier. In this exercise, you'll perform the same calculations as last time, except you'll use the .groupby() method. You'll also perform calculations on data grouped by two variables to see if sales differ by store type depending on if it's a holiday week or not."
      ]
    },
    {
      "cell_type": "code",
      "metadata": {
        "colab": {
          "base_uri": "https://localhost:8080/"
        },
        "id": "ugCTIuiaQltU",
        "outputId": "3a292a82-4a7c-4bd7-811e-08816eff9a5c"
      },
      "source": [
        "# Group by type; calc total weekly sales\n",
        "sales_by_type = sales.groupby(\"type\")[\"weekly_sales\"].sum()\n",
        "\n",
        "# Get proportion for each type\n",
        "sales_propn_by_type = sales_by_type / sum(sales_by_type)\n",
        "print(sales_propn_by_type)\n",
        "\n",
        "# Group by type and is_holiday; calc total weekly sales\n",
        "sales_by_type_is_holiday = sales.groupby([\"type\",\"is_holiday\"])[\"weekly_sales\"].sum()\n",
        "print(sales_by_type_is_holiday)"
      ],
      "execution_count": 26,
      "outputs": [
        {
          "output_type": "stream",
          "text": [
            "type\n",
            "A    0.909775\n",
            "B    0.090225\n",
            "Name: weekly_sales, dtype: float64\n",
            "type  is_holiday\n",
            "A     False         2.336927e+08\n",
            "      True          2.360181e+04\n",
            "B     False         2.317678e+07\n",
            "      True          1.621410e+03\n",
            "Name: weekly_sales, dtype: float64\n"
          ],
          "name": "stdout"
        }
      ]
    },
    {
      "cell_type": "markdown",
      "metadata": {
        "id": "vVAZGokfUY3M"
      },
      "source": [
        "### Multiple grouped summaries\n",
        "Earlier in this chapter, you saw that the .agg() method is useful to compute multiple statistics on multiple variables. It also works with grouped data. NumPy, which is imported as np, has many different summary statistics functions, including: np.min, np.max, np.mean, and np.median."
      ]
    },
    {
      "cell_type": "code",
      "metadata": {
        "id": "JyG18Ig_SH3W",
        "colab": {
          "base_uri": "https://localhost:8080/"
        },
        "outputId": "2ad4693f-4c35-4b6f-9228-778eaadc327a"
      },
      "source": [
        "# Import numpy with the alias np\n",
        "import numpy as np\n",
        "\n",
        "# For each store type, aggregate weekly_sales: get min, max, mean, and median\n",
        "sales_stats = sales.groupby(\"type\")[\"weekly_sales\"].agg([np.min,np.max,np.mean,np.median])\n",
        "\n",
        "# Print sales_stats\n",
        "print(sales_stats)\n",
        "\n",
        "# For each store type, aggregate unemployment and fuel_price_usd_per_l: get min, max, mean, and median\n",
        "unemp_fuel_stats = sales.groupby(\"type\")[\"unemployment\",\"fuel_price_usd_per_l\"].agg([np.min,np.max,np.mean,np.median])\n",
        "\n",
        "# Print unemp_fuel_stats\n",
        "print(unemp_fuel_stats)\n"
      ],
      "execution_count": 27,
      "outputs": [
        {
          "output_type": "stream",
          "text": [
            "        amin       amax          mean    median\n",
            "type                                           \n",
            "A    -1098.0  293966.05  23674.667242  11943.92\n",
            "B     -798.0  232558.51  25696.678370  13336.08\n",
            "     unemployment                   ... fuel_price_usd_per_l                    \n",
            "             amin   amax      mean  ...                 amax      mean    median\n",
            "type                                ...                                         \n",
            "A           3.879  8.992  7.972611  ...             1.107410  0.744619  0.735455\n",
            "B           7.170  9.765  9.279323  ...             1.107674  0.805858  0.803348\n",
            "\n",
            "[2 rows x 8 columns]\n"
          ],
          "name": "stdout"
        },
        {
          "output_type": "stream",
          "text": [
            "/usr/local/lib/python3.7/dist-packages/ipykernel_launcher.py:11: FutureWarning: Indexing with multiple keys (implicitly converted to a tuple of keys) will be deprecated, use a list instead.\n",
            "  # This is added back by InteractiveShellApp.init_path()\n"
          ],
          "name": "stderr"
        }
      ]
    },
    {
      "cell_type": "markdown",
      "metadata": {
        "id": "BgtYSIASbVJn"
      },
      "source": [
        "## Pivoting\n",
        "Pivot tables are the standard way of aggregating data in spreadsheets. In pandas, pivot tables are essentially just another way of performing grouped calculations. That is, the .pivot_table() method is just an alternative to .groupby().\n",
        "\n",
        "In this exercise, you'll perform calculations using .pivot_table() to replicate the calculations you performed in the last lesson using .groupby()."
      ]
    },
    {
      "cell_type": "code",
      "metadata": {
        "id": "0_fUOwR0bT3U",
        "colab": {
          "base_uri": "https://localhost:8080/"
        },
        "outputId": "f5c11624-c1f5-4043-abce-2353f6698bd4"
      },
      "source": [
        "# Pivot for mean weekly_sales for each store type\n",
        "mean_sales_by_type = sales.pivot_table(values=\"weekly_sales\", index='type')\n",
        "\n",
        "# Print mean_sales_by_type\n",
        "print(mean_sales_by_type)\n",
        "\n",
        "# Pivot for mean and median weekly_sales for each store type\n",
        "mean_med_sales_by_type = sales.pivot_table(values=\"weekly_sales\", index='type', aggfunc=[np.mean, np.median])\n",
        "\n",
        "# Print mean_med_sales_by_type\n",
        "print(mean_med_sales_by_type)\n",
        "\n",
        "# Pivot for mean weekly_sales by store type and holiday \n",
        "mean_sales_by_type_holiday = sales.pivot_table(values=\"weekly_sales\", index='type', columns='is_holiday')\n",
        "\n",
        "# Print mean_sales_by_type_holiday\n",
        "print(mean_sales_by_type_holiday)"
      ],
      "execution_count": 28,
      "outputs": [
        {
          "output_type": "stream",
          "text": [
            "      weekly_sales\n",
            "type              \n",
            "A     23674.667242\n",
            "B     25696.678370\n",
            "              mean       median\n",
            "      weekly_sales weekly_sales\n",
            "type                           \n",
            "A     23674.667242     11943.92\n",
            "B     25696.678370     13336.08\n",
            "is_holiday         False      True \n",
            "type                               \n",
            "A           23768.583523  590.04525\n",
            "B           25751.980533  810.70500\n"
          ],
          "name": "stdout"
        }
      ]
    },
    {
      "cell_type": "markdown",
      "metadata": {
        "id": "eiMgjwPXeFC5"
      },
      "source": [
        "### Fill in missing values and sum values with pivot tables\n",
        "The .pivot_table() method has several useful arguments, including fill_value and margins.\n",
        "\n",
        "fill_value replaces missing values with a real value (known as imputation). What to replace missing values with is a topic big enough to have its own course (Dealing with Missing Data in Python), but the simplest thing to do is to substitute a dummy value.\n",
        "margins is a shortcut for when you pivoted by two variables, but also wanted to pivot by each of those variables separately: it gives the row and column totals of the pivot table contents.\n",
        "In this exercise, you'll practice using these arguments to up your pivot table skills, which will help you crunch numbers more efficiently!"
      ]
    },
    {
      "cell_type": "code",
      "metadata": {
        "colab": {
          "base_uri": "https://localhost:8080/"
        },
        "id": "dYNAUbwGeK6T",
        "outputId": "6fa08ddc-809d-4d8e-d649-eb34664ae125"
      },
      "source": [
        "# Print mean weekly_sales by department and type; fill missing values with 0\n",
        "print(sales.pivot_table(values='weekly_sales', index='department',columns='type',fill_value=0))\n",
        "\n",
        "# Print the mean weekly_sales by department and type; fill missing values with 0s; sum all rows and cols\n",
        "print(sales.pivot_table(values=\"weekly_sales\", index=\"department\", columns=\"type\", fill_value=0,margins=True))\n"
      ],
      "execution_count": 29,
      "outputs": [
        {
          "output_type": "stream",
          "text": [
            "type                    A              B\n",
            "department                              \n",
            "1            30961.725379   44050.626667\n",
            "2            67600.158788  112958.526667\n",
            "3            17160.002955   30580.655000\n",
            "4            44285.399091   51219.654167\n",
            "5            34821.011364   63236.875000\n",
            "...                   ...            ...\n",
            "95          123933.787121   77082.102500\n",
            "96           21367.042857    9528.538333\n",
            "97           28471.266970    5828.873333\n",
            "98           12875.423182     217.428333\n",
            "99             379.123659       0.000000\n",
            "\n",
            "[80 rows x 2 columns]\n",
            "type                   A              B           All\n",
            "department                                           \n",
            "1           30961.725379   44050.626667  32052.467153\n",
            "2           67600.158788  112958.526667  71380.022778\n",
            "3           17160.002955   30580.655000  18278.390625\n",
            "4           44285.399091   51219.654167  44863.253681\n",
            "5           34821.011364   63236.875000  37189.000000\n",
            "...                  ...            ...           ...\n",
            "96          21367.042857    9528.538333  20337.607681\n",
            "97          28471.266970    5828.873333  26584.400833\n",
            "98          12875.423182     217.428333  11820.590278\n",
            "99            379.123659       0.000000    379.123659\n",
            "All         23674.667242   25696.678370  23843.950149\n",
            "\n",
            "[81 rows x 3 columns]\n"
          ],
          "name": "stdout"
        }
      ]
    },
    {
      "cell_type": "markdown",
      "metadata": {
        "id": "s2xJ8h1Gj1_z"
      },
      "source": [
        "# Slicing and Indexing"
      ]
    },
    {
      "cell_type": "markdown",
      "metadata": {
        "id": "2vqD3YRkkDx5"
      },
      "source": [
        "## Indexing"
      ]
    },
    {
      "cell_type": "code",
      "metadata": {
        "id": "p6TnAbNmkBQ6"
      },
      "source": [
        "url5='https://drive.google.com/file/d/10BKaFCIGsJidQWKL1DjAl1sS84Nh5K83/view?usp=sharing'\n",
        "url6='https://drive.google.com/uc?id=' + url5.split('/')[-2]\n",
        "temperatures= pd.read_csv(url6)\n"
      ],
      "execution_count": 30,
      "outputs": []
    },
    {
      "cell_type": "markdown",
      "metadata": {
        "id": "rAN2yk_OBb6L"
      },
      "source": [
        "## Setting and removing indexes\n",
        "pandas allows you to designate columns as an index. This enables cleaner code when taking subsets (as well as providing more efficient lookup under some circumstances)."
      ]
    },
    {
      "cell_type": "code",
      "metadata": {
        "colab": {
          "base_uri": "https://localhost:8080/"
        },
        "id": "dulmO1SFyh5D",
        "outputId": "40e9284f-1f51-48a2-9183-7060205eb616"
      },
      "source": [
        "# Look at temperatures\n",
        "print(temperatures.head())\n",
        "\n",
        "# Index temperatures by city\n",
        "temperatures_ind = temperatures.set_index('city')\n",
        "\n",
        "# Look at temperatures_ind\n",
        "print(temperatures_ind.head())\n",
        "\n",
        "# Reset the index, keeping its contents\n",
        "print(temperatures_ind.reset_index())\n",
        "\n",
        "# Reset the index, dropping its contents\n",
        "print(temperatures_ind.reset_index(drop=True))"
      ],
      "execution_count": 31,
      "outputs": [
        {
          "output_type": "stream",
          "text": [
            "   Unnamed: 0        date     city        country  avg_temp_c\n",
            "0           0  2000-01-01  Abidjan  Côte D'Ivoire      27.293\n",
            "1           1  2000-02-01  Abidjan  Côte D'Ivoire      27.685\n",
            "2           2  2000-03-01  Abidjan  Côte D'Ivoire      29.061\n",
            "3           3  2000-04-01  Abidjan  Côte D'Ivoire      28.162\n",
            "4           4  2000-05-01  Abidjan  Côte D'Ivoire      27.547\n",
            "         Unnamed: 0        date        country  avg_temp_c\n",
            "city                                                      \n",
            "Abidjan           0  2000-01-01  Côte D'Ivoire      27.293\n",
            "Abidjan           1  2000-02-01  Côte D'Ivoire      27.685\n",
            "Abidjan           2  2000-03-01  Côte D'Ivoire      29.061\n",
            "Abidjan           3  2000-04-01  Côte D'Ivoire      28.162\n",
            "Abidjan           4  2000-05-01  Côte D'Ivoire      27.547\n",
            "          city  Unnamed: 0        date        country  avg_temp_c\n",
            "0      Abidjan           0  2000-01-01  Côte D'Ivoire      27.293\n",
            "1      Abidjan           1  2000-02-01  Côte D'Ivoire      27.685\n",
            "2      Abidjan           2  2000-03-01  Côte D'Ivoire      29.061\n",
            "3      Abidjan           3  2000-04-01  Côte D'Ivoire      28.162\n",
            "4      Abidjan           4  2000-05-01  Côte D'Ivoire      27.547\n",
            "...        ...         ...         ...            ...         ...\n",
            "16495     Xian       16495  2013-05-01          China      18.979\n",
            "16496     Xian       16496  2013-06-01          China      23.522\n",
            "16497     Xian       16497  2013-07-01          China      25.251\n",
            "16498     Xian       16498  2013-08-01          China      24.528\n",
            "16499     Xian       16499  2013-09-01          China         NaN\n",
            "\n",
            "[16500 rows x 5 columns]\n",
            "       Unnamed: 0        date        country  avg_temp_c\n",
            "0               0  2000-01-01  Côte D'Ivoire      27.293\n",
            "1               1  2000-02-01  Côte D'Ivoire      27.685\n",
            "2               2  2000-03-01  Côte D'Ivoire      29.061\n",
            "3               3  2000-04-01  Côte D'Ivoire      28.162\n",
            "4               4  2000-05-01  Côte D'Ivoire      27.547\n",
            "...           ...         ...            ...         ...\n",
            "16495       16495  2013-05-01          China      18.979\n",
            "16496       16496  2013-06-01          China      23.522\n",
            "16497       16497  2013-07-01          China      25.251\n",
            "16498       16498  2013-08-01          China      24.528\n",
            "16499       16499  2013-09-01          China         NaN\n",
            "\n",
            "[16500 rows x 4 columns]\n"
          ],
          "name": "stdout"
        }
      ]
    },
    {
      "cell_type": "markdown",
      "metadata": {
        "id": "_sgJOk6aBkbt"
      },
      "source": [
        "## Subsetting with .loc[]\n",
        "\n",
        "The killer feature for indexes is .loc[]: a subsetting method that accepts index values. When you pass it a single argument, it will take a subset of rows.\n",
        "\n",
        "The code for subsetting using .loc[] can be easier to read than standard square bracket subsetting, which can make your code less burdensome to maintain."
      ]
    },
    {
      "cell_type": "code",
      "metadata": {
        "colab": {
          "base_uri": "https://localhost:8080/"
        },
        "id": "rowi6yJbFG0s",
        "outputId": "c0020a02-77a5-4782-f620-349d9ce87b01"
      },
      "source": [
        "# Make a list of cities to subset on\n",
        "cities = [\"Moscow\", \"Saint Petersburg\"]\n",
        "\n",
        "# Subset temperatures using square brackets (using .isin method)\n",
        "print(temperatures[temperatures['city'].isin(cities)])\n",
        "\n",
        "# Subset temperatures_ind using .loc[]\n",
        "print(temperatures_ind.loc[cities])"
      ],
      "execution_count": 32,
      "outputs": [
        {
          "output_type": "stream",
          "text": [
            "       Unnamed: 0        date              city country  avg_temp_c\n",
            "10725       10725  2000-01-01            Moscow  Russia      -7.313\n",
            "10726       10726  2000-02-01            Moscow  Russia      -3.551\n",
            "10727       10727  2000-03-01            Moscow  Russia      -1.661\n",
            "10728       10728  2000-04-01            Moscow  Russia      10.096\n",
            "10729       10729  2000-05-01            Moscow  Russia      10.357\n",
            "...           ...         ...               ...     ...         ...\n",
            "13360       13360  2013-05-01  Saint Petersburg  Russia      12.355\n",
            "13361       13361  2013-06-01  Saint Petersburg  Russia      17.185\n",
            "13362       13362  2013-07-01  Saint Petersburg  Russia      17.234\n",
            "13363       13363  2013-08-01  Saint Petersburg  Russia      17.153\n",
            "13364       13364  2013-09-01  Saint Petersburg  Russia         NaN\n",
            "\n",
            "[330 rows x 5 columns]\n",
            "                  Unnamed: 0        date country  avg_temp_c\n",
            "city                                                        \n",
            "Moscow                 10725  2000-01-01  Russia      -7.313\n",
            "Moscow                 10726  2000-02-01  Russia      -3.551\n",
            "Moscow                 10727  2000-03-01  Russia      -1.661\n",
            "Moscow                 10728  2000-04-01  Russia      10.096\n",
            "Moscow                 10729  2000-05-01  Russia      10.357\n",
            "...                      ...         ...     ...         ...\n",
            "Saint Petersburg       13360  2013-05-01  Russia      12.355\n",
            "Saint Petersburg       13361  2013-06-01  Russia      17.185\n",
            "Saint Petersburg       13362  2013-07-01  Russia      17.234\n",
            "Saint Petersburg       13363  2013-08-01  Russia      17.153\n",
            "Saint Petersburg       13364  2013-09-01  Russia         NaN\n",
            "\n",
            "[330 rows x 4 columns]\n"
          ],
          "name": "stdout"
        }
      ]
    },
    {
      "cell_type": "markdown",
      "metadata": {
        "id": "-4ApG6jDIGPQ"
      },
      "source": [
        "## Setting multi-level indexes\n",
        "Indexes can also be made out of multiple columns, forming a multi-level index (sometimes called a hierarchical index). There is a trade-off to using these.\n",
        "\n",
        "\n",
        "The benefit is that multi-level indexes make it more natural to reason about nested categorical variables. For example, in a clinical trial, you might have control and treatment groups. Then each test subject belongs to one or another group, and we can say that a test subject is nested inside the treatment group. Similarly, in the temperature dataset, the city is located in the country, so we can say a city is nested inside the country.\n",
        "\n",
        "\n",
        "The main downside is that the code for manipulating indexes is different from the code for manipulating columns, so you have to learn two syntaxes and keep track of how your data is represented."
      ]
    },
    {
      "cell_type": "code",
      "metadata": {
        "colab": {
          "base_uri": "https://localhost:8080/"
        },
        "id": "DaaYVxDAGfXq",
        "outputId": "bc8fe0ce-0b0c-4e50-e373-00ebf42903e2"
      },
      "source": [
        "# Index temperatures by country & city\n",
        "temperatures_ind = temperatures.set_index(['country','city'])\n",
        "\n",
        "# List of tuples: Brazil, Rio De Janeiro & Pakistan, Lahore\n",
        "rows_to_keep = [('Brazil', 'Rio De Janeiro'),('Pakistan', 'Lahore')]\n",
        "\n",
        "# Subset for rows to keep\n",
        "print(temperatures_ind.loc[rows_to_keep])"
      ],
      "execution_count": 33,
      "outputs": [
        {
          "output_type": "stream",
          "text": [
            "                         Unnamed: 0        date  avg_temp_c\n",
            "country  city                                              \n",
            "Brazil   Rio De Janeiro       12540  2000-01-01      25.974\n",
            "         Rio De Janeiro       12541  2000-02-01      26.699\n",
            "         Rio De Janeiro       12542  2000-03-01      26.270\n",
            "         Rio De Janeiro       12543  2000-04-01      25.750\n",
            "         Rio De Janeiro       12544  2000-05-01      24.356\n",
            "...                             ...         ...         ...\n",
            "Pakistan Lahore                8575  2013-05-01      33.457\n",
            "         Lahore                8576  2013-06-01      34.456\n",
            "         Lahore                8577  2013-07-01      33.279\n",
            "         Lahore                8578  2013-08-01      31.511\n",
            "         Lahore                8579  2013-09-01         NaN\n",
            "\n",
            "[330 rows x 3 columns]\n"
          ],
          "name": "stdout"
        }
      ]
    },
    {
      "cell_type": "markdown",
      "metadata": {
        "id": "avRwjZLVI1Cn"
      },
      "source": [
        "## Sorting by index values\n",
        "Previously, you changed the order of the rows in a DataFrame by calling .sort_values(). It's also useful to be able to sort by elements in the index. For this, you need to use .sort_index()"
      ]
    },
    {
      "cell_type": "code",
      "metadata": {
        "colab": {
          "base_uri": "https://localhost:8080/"
        },
        "id": "nx1MxWQUIMId",
        "outputId": "9b721c2b-64af-435d-b992-3613ca14bc22"
      },
      "source": [
        "# Sort temperatures_ind by index values\n",
        "print(temperatures_ind.sort_index())\n",
        "\n",
        "# Sort temperatures_ind by index values at the city level\n",
        "print(temperatures_ind.sort_index(level=['city']))\n",
        "\n",
        "# Sort temperatures_ind by country then descending city\n",
        "print(temperatures_ind.sort_index(level=['country','city'],ascending=[True,False]))\n"
      ],
      "execution_count": 34,
      "outputs": [
        {
          "output_type": "stream",
          "text": [
            "                    Unnamed: 0        date  avg_temp_c\n",
            "country     city                                      \n",
            "Afghanistan Kabul         7260  2000-01-01       3.326\n",
            "            Kabul         7261  2000-02-01       3.454\n",
            "            Kabul         7262  2000-03-01       9.612\n",
            "            Kabul         7263  2000-04-01      17.925\n",
            "            Kabul         7264  2000-05-01      24.658\n",
            "...                        ...         ...         ...\n",
            "Zimbabwe    Harare        5605  2013-05-01      18.298\n",
            "            Harare        5606  2013-06-01      17.020\n",
            "            Harare        5607  2013-07-01      16.299\n",
            "            Harare        5608  2013-08-01      19.232\n",
            "            Harare        5609  2013-09-01         NaN\n",
            "\n",
            "[16500 rows x 3 columns]\n",
            "                       Unnamed: 0        date  avg_temp_c\n",
            "country       city                                       \n",
            "Côte D'Ivoire Abidjan           0  2000-01-01      27.293\n",
            "              Abidjan           1  2000-02-01      27.685\n",
            "              Abidjan           2  2000-03-01      29.061\n",
            "              Abidjan           3  2000-04-01      28.162\n",
            "              Abidjan           4  2000-05-01      27.547\n",
            "...                           ...         ...         ...\n",
            "China         Xian          16495  2013-05-01      18.979\n",
            "              Xian          16496  2013-06-01      23.522\n",
            "              Xian          16497  2013-07-01      25.251\n",
            "              Xian          16498  2013-08-01      24.528\n",
            "              Xian          16499  2013-09-01         NaN\n",
            "\n",
            "[16500 rows x 3 columns]\n",
            "                    Unnamed: 0        date  avg_temp_c\n",
            "country     city                                      \n",
            "Afghanistan Kabul         7260  2000-01-01       3.326\n",
            "            Kabul         7261  2000-02-01       3.454\n",
            "            Kabul         7262  2000-03-01       9.612\n",
            "            Kabul         7263  2000-04-01      17.925\n",
            "            Kabul         7264  2000-05-01      24.658\n",
            "...                        ...         ...         ...\n",
            "Zimbabwe    Harare        5605  2013-05-01      18.298\n",
            "            Harare        5606  2013-06-01      17.020\n",
            "            Harare        5607  2013-07-01      16.299\n",
            "            Harare        5608  2013-08-01      19.232\n",
            "            Harare        5609  2013-09-01         NaN\n",
            "\n",
            "[16500 rows x 3 columns]\n"
          ],
          "name": "stdout"
        }
      ]
    },
    {
      "cell_type": "markdown",
      "metadata": {
        "id": "EnGA5lWtmvHm"
      },
      "source": [
        "## ٍSlicing"
      ]
    },
    {
      "cell_type": "markdown",
      "metadata": {
        "id": "-WzbEliCmrOm"
      },
      "source": [
        "### Slicing index values\n",
        "Slicing lets you select consecutive elements of an object using first:last syntax. DataFrames can be sliced by index values or by row/column number; we'll start with the first case. This involves slicing inside the .loc[] method.\n",
        "\n",
        "Compared to slicing lists, there are a few things to remember.\n",
        "\n",
        "* You can only slice an index if the index is sorted (using .sort_index()).\n",
        "* To slice at the outer level, first and last can be strings.\n",
        "* To slice at inner levels, first and last should be tuples.\n",
        "* If you pass a single slice to .loc[], it will slice the rows.\n"
      ]
    },
    {
      "cell_type": "code",
      "metadata": {
        "id": "sPwl5WScKOO1",
        "colab": {
          "base_uri": "https://localhost:8080/"
        },
        "outputId": "fade6197-2a3a-4c6b-988b-91dfbc6dac79"
      },
      "source": [
        "# Sort the index of temperatures_ind\n",
        "temperatures_srt = temperatures_ind.sort_index()\n",
        "\n",
        "# Subset rows from Pakistan to Russia\n",
        "print(temperatures_srt.loc[\"Pakistan\":\"Russia\"])\n",
        "\n",
        "# Try to subset rows from Lahore to Moscow\n",
        "print(temperatures_srt.loc[\"Lahore\":\"Moscow\"])\n",
        "\n",
        "# Subset rows from Pakistan, Lahore to Russia, Moscow\n",
        "print(temperatures_srt.loc[(\"Pakistan\", \"Lahore\") : (\"Russia\", \"Moscow\")])\n"
      ],
      "execution_count": 35,
      "outputs": [
        {
          "output_type": "stream",
          "text": [
            "                           Unnamed: 0        date  avg_temp_c\n",
            "country  city                                                \n",
            "Pakistan Faisalabad              4785  2000-01-01      12.792\n",
            "         Faisalabad              4786  2000-02-01      14.339\n",
            "         Faisalabad              4787  2000-03-01      20.309\n",
            "         Faisalabad              4788  2000-04-01      29.072\n",
            "         Faisalabad              4789  2000-05-01      34.845\n",
            "...                               ...         ...         ...\n",
            "Russia   Saint Petersburg       13360  2013-05-01      12.355\n",
            "         Saint Petersburg       13361  2013-06-01      17.185\n",
            "         Saint Petersburg       13362  2013-07-01      17.234\n",
            "         Saint Petersburg       13363  2013-08-01      17.153\n",
            "         Saint Petersburg       13364  2013-09-01         NaN\n",
            "\n",
            "[1155 rows x 3 columns]\n",
            "                    Unnamed: 0        date  avg_temp_c\n",
            "country city                                          \n",
            "Mexico  Mexico           10230  2000-01-01      12.694\n",
            "        Mexico           10231  2000-02-01      14.677\n",
            "        Mexico           10232  2000-03-01      17.376\n",
            "        Mexico           10233  2000-04-01      18.294\n",
            "        Mexico           10234  2000-05-01      18.562\n",
            "...                        ...         ...         ...\n",
            "Morocco Casablanca        3130  2013-05-01      19.217\n",
            "        Casablanca        3131  2013-06-01      23.649\n",
            "        Casablanca        3132  2013-07-01      27.488\n",
            "        Casablanca        3133  2013-08-01      27.952\n",
            "        Casablanca        3134  2013-09-01         NaN\n",
            "\n",
            "[330 rows x 3 columns]\n",
            "                 Unnamed: 0        date  avg_temp_c\n",
            "country  city                                      \n",
            "Pakistan Lahore        8415  2000-01-01      12.792\n",
            "         Lahore        8416  2000-02-01      14.339\n",
            "         Lahore        8417  2000-03-01      20.309\n",
            "         Lahore        8418  2000-04-01      29.072\n",
            "         Lahore        8419  2000-05-01      34.845\n",
            "...                     ...         ...         ...\n",
            "Russia   Moscow       10885  2013-05-01      16.152\n",
            "         Moscow       10886  2013-06-01      18.718\n",
            "         Moscow       10887  2013-07-01      18.136\n",
            "         Moscow       10888  2013-08-01      17.485\n",
            "         Moscow       10889  2013-09-01         NaN\n",
            "\n",
            "[660 rows x 3 columns]\n"
          ],
          "name": "stdout"
        }
      ]
    },
    {
      "cell_type": "markdown",
      "metadata": {
        "id": "2gcVAnQBvrfT"
      },
      "source": [
        "### Slicing in both directions\n",
        "You've seen slicing DataFrames by rows and by columns, but since DataFrames are two-dimensional objects, it is often natural to slice both dimensions at once. That is, by passing two arguments to .loc[], you can subset by rows and columns in one go."
      ]
    },
    {
      "cell_type": "code",
      "metadata": {
        "colab": {
          "base_uri": "https://localhost:8080/"
        },
        "id": "cANj8vgcuHoj",
        "outputId": "3dbf21fe-b309-4170-b6c9-0e1c92bb0518"
      },
      "source": [
        "# Subset rows from India, Hyderabad to Iraq, Baghdad\n",
        "print(temperatures_srt.loc[(\"India\",\"Hyderabad\"):(\"Iraq\",\"Baghdad\")])\n",
        "\n",
        "# Subset columns from date to avg_temp_c\n",
        "print(temperatures_srt.loc[:,\"date\":\"avg_temp_c\"])\n",
        "\n",
        "# Subset in both directions at once\n",
        "print(temperatures_srt.loc[(\"India\",\"Hyderabad\"):(\"Iraq\",\"Baghdad\"),\"date\":\"avg_temp_c\"])"
      ],
      "execution_count": 36,
      "outputs": [
        {
          "output_type": "stream",
          "text": [
            "                   Unnamed: 0        date  avg_temp_c\n",
            "country city                                         \n",
            "India   Hyderabad        5940  2000-01-01      23.779\n",
            "        Hyderabad        5941  2000-02-01      25.826\n",
            "        Hyderabad        5942  2000-03-01      28.821\n",
            "        Hyderabad        5943  2000-04-01      32.698\n",
            "        Hyderabad        5944  2000-05-01      32.438\n",
            "...                       ...         ...         ...\n",
            "Iraq    Baghdad          1150  2013-05-01      28.673\n",
            "        Baghdad          1151  2013-06-01      33.803\n",
            "        Baghdad          1152  2013-07-01      36.392\n",
            "        Baghdad          1153  2013-08-01      35.463\n",
            "        Baghdad          1154  2013-09-01         NaN\n",
            "\n",
            "[2145 rows x 3 columns]\n",
            "                          date  avg_temp_c\n",
            "country     city                          \n",
            "Afghanistan Kabul   2000-01-01       3.326\n",
            "            Kabul   2000-02-01       3.454\n",
            "            Kabul   2000-03-01       9.612\n",
            "            Kabul   2000-04-01      17.925\n",
            "            Kabul   2000-05-01      24.658\n",
            "...                        ...         ...\n",
            "Zimbabwe    Harare  2013-05-01      18.298\n",
            "            Harare  2013-06-01      17.020\n",
            "            Harare  2013-07-01      16.299\n",
            "            Harare  2013-08-01      19.232\n",
            "            Harare  2013-09-01         NaN\n",
            "\n",
            "[16500 rows x 2 columns]\n",
            "                         date  avg_temp_c\n",
            "country city                             \n",
            "India   Hyderabad  2000-01-01      23.779\n",
            "        Hyderabad  2000-02-01      25.826\n",
            "        Hyderabad  2000-03-01      28.821\n",
            "        Hyderabad  2000-04-01      32.698\n",
            "        Hyderabad  2000-05-01      32.438\n",
            "...                       ...         ...\n",
            "Iraq    Baghdad    2013-05-01      28.673\n",
            "        Baghdad    2013-06-01      33.803\n",
            "        Baghdad    2013-07-01      36.392\n",
            "        Baghdad    2013-08-01      35.463\n",
            "        Baghdad    2013-09-01         NaN\n",
            "\n",
            "[2145 rows x 2 columns]\n"
          ],
          "name": "stdout"
        }
      ]
    },
    {
      "cell_type": "code",
      "metadata": {
        "colab": {
          "base_uri": "https://localhost:8080/"
        },
        "id": "3go8KVqHwzfk",
        "outputId": "48b70b79-9729-46fa-e570-f9f80b83bd02"
      },
      "source": [
        "# Use Boolean conditions to subset temperatures for rows in 2010 and 2011\n",
        "temperatures_bool = temperatures[(temperatures['date'] >= '2010-01-01') & (temperatures['date'] <= '2011-12-31')]\n",
        "print(temperatures_bool)\n",
        "\n",
        "# Set date as an index and sort the index\n",
        "temperatures_ind = temperatures.set_index('date').sort_index()\n",
        "\n",
        "# Use .loc[] to subset temperatures_ind for rows in 2010 and 2011\n",
        "print(temperatures_ind.loc[\"2010\":\"2011\"])\n",
        "\n",
        "# Use .loc[] to subset temperatures_ind for rows from Aug 2010 to Feb 2011\n",
        "print(print(temperatures_ind.loc[\"2010-8\":\"2011-2\"]))\n"
      ],
      "execution_count": 37,
      "outputs": [
        {
          "output_type": "stream",
          "text": [
            "       Unnamed: 0        date     city        country  avg_temp_c\n",
            "120           120  2010-01-01  Abidjan  Côte D'Ivoire      28.270\n",
            "121           121  2010-02-01  Abidjan  Côte D'Ivoire      29.262\n",
            "122           122  2010-03-01  Abidjan  Côte D'Ivoire      29.596\n",
            "123           123  2010-04-01  Abidjan  Côte D'Ivoire      29.068\n",
            "124           124  2010-05-01  Abidjan  Côte D'Ivoire      28.258\n",
            "...           ...         ...      ...            ...         ...\n",
            "16474       16474  2011-08-01     Xian          China      23.069\n",
            "16475       16475  2011-09-01     Xian          China      16.775\n",
            "16476       16476  2011-10-01     Xian          China      12.587\n",
            "16477       16477  2011-11-01     Xian          China       7.543\n",
            "16478       16478  2011-12-01     Xian          China      -0.490\n",
            "\n",
            "[2400 rows x 5 columns]\n",
            "            Unnamed: 0        city    country  avg_temp_c\n",
            "date                                                     \n",
            "2010-01-01        4905  Faisalabad   Pakistan      11.810\n",
            "2010-01-01       10185   Melbourne  Australia      20.016\n",
            "2010-01-01        3750   Chongqing      China       7.921\n",
            "2010-01-01       13155   São Paulo     Brazil      23.738\n",
            "2010-01-01        5400   Guangzhou      China      14.136\n",
            "...                ...         ...        ...         ...\n",
            "2010-12-01        6896     Jakarta  Indonesia      26.602\n",
            "2010-12-01        5246       Gizeh      Egypt      16.530\n",
            "2010-12-01       11186      Nagpur      India      19.120\n",
            "2010-12-01       14981      Sydney  Australia      19.559\n",
            "2010-12-01       13496    Salvador     Brazil      26.265\n",
            "\n",
            "[1200 rows x 4 columns]\n",
            "            Unnamed: 0           city             country  avg_temp_c\n",
            "date                                                                 \n",
            "2011-01-01       13827  Santo Domingo  Dominican Republic      25.129\n",
            "2011-01-01        9372         Luanda              Angola      23.712\n",
            "2011-01-01       14652       Surabaya           Indonesia      26.580\n",
            "2011-01-01       10197      Melbourne           Australia      19.989\n",
            "2011-01-01        2772           Cali            Colombia      22.484\n",
            "...                ...            ...                 ...         ...\n",
            "2011-12-01       11033         Nagoya               Japan       6.476\n",
            "2011-12-01        6083      Hyderabad               India      23.613\n",
            "2011-12-01        2783           Cali            Colombia      21.559\n",
            "2011-12-01        8888           Lima                Peru      18.293\n",
            "2011-12-01        1463        Bangkok            Thailand      25.021\n",
            "\n",
            "[1200 rows x 4 columns]\n",
            "None\n"
          ],
          "name": "stdout"
        }
      ]
    },
    {
      "cell_type": "markdown",
      "metadata": {
        "id": "jF3K1jYx1DsO"
      },
      "source": [
        "### Subsetting by row/column number\n",
        "The most common ways to subset rows are the ways we've previously discussed: using a Boolean condition or by index labels. However, it is also occasionally useful to pass row numbers.\n",
        "\n",
        "This is done using .iloc[], and like .loc[], it can take two arguments to let you subset by rows and columns."
      ]
    },
    {
      "cell_type": "code",
      "metadata": {
        "colab": {
          "base_uri": "https://localhost:8080/"
        },
        "id": "RNf6R2Y91FS4",
        "outputId": "955f3dff-ce50-4b35-8e33-2d3d5683aacd"
      },
      "source": [
        "# Get 23rd row, 2nd column (index 22, 1)\n",
        "print(temperatures.iloc[22,1])\n",
        "\n",
        "# Use slicing to get the first 5 rows\n",
        "print(temperatures.iloc[:5])\n",
        "\n",
        "# Use slicing to get columns 3 to 4\n",
        "print(temperatures.iloc[:,2:4])\n",
        "\n",
        "# Use slicing in both directions at once\n",
        "print(temperatures.iloc[:5,2:4])\n"
      ],
      "execution_count": 38,
      "outputs": [
        {
          "output_type": "stream",
          "text": [
            "2001-11-01\n",
            "   Unnamed: 0        date     city        country  avg_temp_c\n",
            "0           0  2000-01-01  Abidjan  Côte D'Ivoire      27.293\n",
            "1           1  2000-02-01  Abidjan  Côte D'Ivoire      27.685\n",
            "2           2  2000-03-01  Abidjan  Côte D'Ivoire      29.061\n",
            "3           3  2000-04-01  Abidjan  Côte D'Ivoire      28.162\n",
            "4           4  2000-05-01  Abidjan  Côte D'Ivoire      27.547\n",
            "          city        country\n",
            "0      Abidjan  Côte D'Ivoire\n",
            "1      Abidjan  Côte D'Ivoire\n",
            "2      Abidjan  Côte D'Ivoire\n",
            "3      Abidjan  Côte D'Ivoire\n",
            "4      Abidjan  Côte D'Ivoire\n",
            "...        ...            ...\n",
            "16495     Xian          China\n",
            "16496     Xian          China\n",
            "16497     Xian          China\n",
            "16498     Xian          China\n",
            "16499     Xian          China\n",
            "\n",
            "[16500 rows x 2 columns]\n",
            "      city        country\n",
            "0  Abidjan  Côte D'Ivoire\n",
            "1  Abidjan  Côte D'Ivoire\n",
            "2  Abidjan  Côte D'Ivoire\n",
            "3  Abidjan  Côte D'Ivoire\n",
            "4  Abidjan  Côte D'Ivoire\n"
          ],
          "name": "stdout"
        }
      ]
    },
    {
      "cell_type": "markdown",
      "metadata": {
        "id": "_IcGrVT87dc9"
      },
      "source": [
        "## ًWorking with Pivots"
      ]
    },
    {
      "cell_type": "markdown",
      "metadata": {
        "id": "1S3RePt_7k5Q"
      },
      "source": [
        "### Pivot temperature by city and year\n",
        "It's interesting to see how temperatures for each city change over time—looking at every month results in a big table, which can be tricky to reason about. Instead, let's look at how temperatures change by year.\n",
        "\n",
        "You can access the components of a date (year, month and day) using code of the form dataframe[\"column\"].dt.component. For example, the month component is dataframe[\"column\"].dt.month, and the year component is dataframe[\"column\"].dt.year.\n",
        "\n",
        "Once you have the year column, you can create a pivot table with the data aggregated by city and year, which you'll explore in the coming exercises."
      ]
    },
    {
      "cell_type": "code",
      "metadata": {
        "colab": {
          "base_uri": "https://localhost:8080/"
        },
        "id": "QK2m294GIUij",
        "outputId": "a786615b-db30-42f8-8307-503839079f91"
      },
      "source": [
        "pd.DatetimeIndex(temperatures[\"date\"]).month"
      ],
      "execution_count": 39,
      "outputs": [
        {
          "output_type": "execute_result",
          "data": {
            "text/plain": [
              "Int64Index([ 1,  2,  3,  4,  5,  6,  7,  8,  9, 10,\n",
              "            ...\n",
              "            12,  1,  2,  3,  4,  5,  6,  7,  8,  9],\n",
              "           dtype='int64', name='date', length=16500)"
            ]
          },
          "metadata": {
            "tags": []
          },
          "execution_count": 39
        }
      ]
    },
    {
      "cell_type": "code",
      "metadata": {
        "colab": {
          "base_uri": "https://localhost:8080/"
        },
        "id": "pvv9un227mmb",
        "outputId": "17520a15-cb5a-415e-c223-54733a114d16"
      },
      "source": [
        "# Add a year column to temperatures\n",
        "#temperatures['year']=temperatures['date'].dt.year\n",
        "temperatures['year']=pd.DatetimeIndex(temperatures[\"date\"]).year\n",
        "\n",
        "# Pivot avg_temp_c by country and city vs year\n",
        "temp_by_country_city_vs_year = temperatures.pivot_table(values='avg_temp_c',index=['country', 'city'],columns='year')\n",
        "\n",
        "# See the result\n",
        "print(temp_by_country_city_vs_year)"
      ],
      "execution_count": 40,
      "outputs": [
        {
          "output_type": "stream",
          "text": [
            "year                                 2000       2001  ...       2012       2013\n",
            "country       city                                    ...                      \n",
            "Afghanistan   Kabul             15.822667  15.847917  ...  14.510333  16.206125\n",
            "Angola        Luanda            24.410333  24.427083  ...  24.240083  24.553875\n",
            "Australia     Melbourne         14.320083  14.180000  ...  14.268667  14.741500\n",
            "              Sydney            17.567417  17.854500  ...  17.474333  18.089750\n",
            "Bangladesh    Dhaka             25.905250  25.931250  ...  26.283583  26.587000\n",
            "...                                   ...        ...  ...        ...        ...\n",
            "United States Chicago           11.089667  11.703083  ...  12.821250  11.586889\n",
            "              Los Angeles       16.643333  16.466250  ...  17.089583  18.120667\n",
            "              New York           9.969083  10.931000  ...  11.971500  12.163889\n",
            "Vietnam       Ho Chi Minh City  27.588917  27.831750  ...  28.248750  28.455000\n",
            "Zimbabwe      Harare            20.283667  20.861000  ...  20.523333  19.756500\n",
            "\n",
            "[100 rows x 14 columns]\n"
          ],
          "name": "stdout"
        }
      ]
    },
    {
      "cell_type": "code",
      "metadata": {
        "id": "XcPwwhYmFMgg",
        "colab": {
          "base_uri": "https://localhost:8080/"
        },
        "outputId": "cad7e565-538a-4534-b161-1700926d8792"
      },
      "source": [
        "# Subset for Egypt to India\n",
        "print(temp_by_country_city_vs_year.loc[\"Egypt\":\"India\"])\n",
        "\n",
        "# Subset for Egypt, Cairo to India, Delhi\n",
        "print(temp_by_country_city_vs_year.loc[(\"Egypt\",\"Cairo\"):(\"India\",\"Delhi\")])\n",
        "\n",
        "# Subset in both directions from Egypt, Cairo to India, Delhi, and 2005 to 2010.\n",
        "print(temp_by_country_city_vs_year.loc[(\"Egypt\",\"Cairo\"):(\"India\",\"Delhi\"),\"2005\":\"2010\"])"
      ],
      "execution_count": 41,
      "outputs": [
        {
          "output_type": "stream",
          "text": [
            "year                       2000       2001  ...       2012       2013\n",
            "country  city                               ...                      \n",
            "Egypt    Alexandria   20.744500  21.454583  ...  21.552583  21.438500\n",
            "         Cairo        21.486167  22.330833  ...  22.484250  22.907000\n",
            "         Gizeh        21.486167  22.330833  ...  22.484250  22.907000\n",
            "Ethiopia Addis Abeba  18.241250  18.296417  ...  18.448583  19.539000\n",
            "France   Paris        11.739667  11.371250  ...  11.219917  11.011625\n",
            "Germany  Berlin       10.963667   9.690250  ...   9.964333  10.121500\n",
            "India    Ahmadabad    27.436000  27.198083  ...  27.027250  27.608625\n",
            "         Bangalore    25.337917  25.528167  ...  26.042333  26.610500\n",
            "         Bombay       27.203667  27.243667  ...  27.192500  26.713000\n",
            "         Calcutta     26.491333  26.515167  ...  26.935083  27.369250\n",
            "         Delhi        26.048333  25.862917  ...  25.889417  26.709250\n",
            "         Hyderabad    27.231833  27.555167  ...  28.018583  28.851250\n",
            "         Jaipur       26.430250  26.023000  ...  25.884500  26.844125\n",
            "         Kanpur       25.353917  25.326500  ...  25.445417  26.121250\n",
            "         Lakhnau      25.353917  25.326500  ...  25.445417  26.121250\n",
            "         Madras       28.811667  29.162917  ...  29.778417  30.411750\n",
            "         Nagpur       26.181417  26.321667  ...  26.327917  27.112375\n",
            "         New Delhi    26.048333  25.862917  ...  25.889417  26.709250\n",
            "         Pune         25.110917  25.337833  ...  25.296833  25.847625\n",
            "         Surat        27.029000  26.897250  ...  26.889250  27.437750\n",
            "\n",
            "[20 rows x 14 columns]\n",
            "year                       2000       2001  ...       2012       2013\n",
            "country  city                               ...                      \n",
            "Egypt    Cairo        21.486167  22.330833  ...  22.484250  22.907000\n",
            "         Gizeh        21.486167  22.330833  ...  22.484250  22.907000\n",
            "Ethiopia Addis Abeba  18.241250  18.296417  ...  18.448583  19.539000\n",
            "France   Paris        11.739667  11.371250  ...  11.219917  11.011625\n",
            "Germany  Berlin       10.963667   9.690250  ...   9.964333  10.121500\n",
            "India    Ahmadabad    27.436000  27.198083  ...  27.027250  27.608625\n",
            "         Bangalore    25.337917  25.528167  ...  26.042333  26.610500\n",
            "         Bombay       27.203667  27.243667  ...  27.192500  26.713000\n",
            "         Calcutta     26.491333  26.515167  ...  26.935083  27.369250\n",
            "         Delhi        26.048333  25.862917  ...  25.889417  26.709250\n",
            "\n",
            "[10 rows x 14 columns]\n",
            "year                       2005       2006  ...       2009       2010\n",
            "country  city                               ...                      \n",
            "Egypt    Cairo        22.006500  22.050000  ...  22.625000  23.718250\n",
            "         Gizeh        22.006500  22.050000  ...  22.625000  23.718250\n",
            "Ethiopia Addis Abeba  18.312833  18.427083  ...  18.765333  18.298250\n",
            "France   Paris        11.552917  11.788500  ...  11.464083  10.409833\n",
            "Germany  Berlin        9.919083  10.545333  ...  10.062500   8.606833\n",
            "India    Ahmadabad    26.828083  27.282833  ...  28.095833  28.017833\n",
            "         Bangalore    25.476500  25.418250  ...  25.725750  25.705250\n",
            "         Bombay       27.035750  27.381500  ...  27.844500  27.765417\n",
            "         Calcutta     26.729167  26.986250  ...  27.153250  27.288833\n",
            "         Delhi        25.716083  26.365917  ...  26.554250  26.520250\n",
            "\n",
            "[10 rows x 6 columns]\n"
          ],
          "name": "stdout"
        }
      ]
    },
    {
      "cell_type": "markdown",
      "metadata": {
        "id": "qBTyoAV5pdJZ"
      },
      "source": [
        "### Calculating on a pivot table\n",
        "Pivot tables are filled with summary statistics, but they are only a first step to finding something insightful. Often you'll need to perform further calculations on them. A common thing to do is to find the rows or columns where the highest or lowest value occurs.\n",
        "\n",
        "Recall from Chapter 1 that you can easily subset a Series or DataFrame to find rows of interest using a logical condition inside of square brackets. For example: series[series > value]."
      ]
    },
    {
      "cell_type": "code",
      "metadata": {
        "colab": {
          "base_uri": "https://localhost:8080/"
        },
        "id": "JPxMH9STczsf",
        "outputId": "b9f0711b-73a9-460d-9fbc-1341ff57965c"
      },
      "source": [
        "# Get the worldwide mean temp by year\n",
        "mean_temp_by_year = temp_by_country_city_vs_year.mean()\n",
        "\n",
        "# Filter for the year that had the highest mean temp\n",
        "print(mean_temp_by_year[mean_temp_by_year==mean_temp_by_year.max()])\n",
        "\n",
        "# Get the mean temp by city\n",
        "mean_temp_by_city = temp_by_country_city_vs_year.mean(axis='columns')\n",
        "\n",
        "# Filter for the city that had the lowest mean temp\n",
        "print(mean_temp_by_city[mean_temp_by_city==mean_temp_by_city.min()])\n"
      ],
      "execution_count": 42,
      "outputs": [
        {
          "output_type": "stream",
          "text": [
            "year\n",
            "2013    20.312285\n",
            "dtype: float64\n",
            "country  city  \n",
            "China    Harbin    4.876551\n",
            "dtype: float64\n"
          ],
          "name": "stdout"
        }
      ]
    },
    {
      "cell_type": "markdown",
      "metadata": {
        "id": "tUK9C2XzEQg5"
      },
      "source": [
        "# Creating and Visualizing DataFrames"
      ]
    },
    {
      "cell_type": "markdown",
      "metadata": {
        "id": "WQHuuaQ3EXnl"
      },
      "source": [
        "## Visualization"
      ]
    },
    {
      "cell_type": "markdown",
      "metadata": {
        "id": "0pCdijr4Ee8u"
      },
      "source": [
        "* Read the pickle file in avocados\n",
        "* Print the head of the avocados dataset. What columns are available?\n",
        "* For each avocado size group, calculate the total number sold, storing as nb_sold_by_size.\n",
        "* Create a bar plot of the number of avocados sold by size.\n",
        "Show the plot."
      ]
    },
    {
      "cell_type": "code",
      "metadata": {
        "id": "isdpV4n8pb96"
      },
      "source": [
        "url7='https://drive.google.com/file/d/11fHau3RsuwnFS09nKPAmW-rnVFfp6QvQ/view?usp=sharing'\n",
        "url8='https://drive.google.com/uc?id=' + url7.split('/')[-2]\n",
        "avocados = pd.read_pickle(url8)\n"
      ],
      "execution_count": 43,
      "outputs": []
    },
    {
      "cell_type": "code",
      "metadata": {
        "colab": {
          "base_uri": "https://localhost:8080/",
          "height": 0
        },
        "id": "Tv-ZXaYz-KUv",
        "outputId": "e815dd57-00ab-4928-f828-885c35dc2257"
      },
      "source": [
        "# Look at the first few rows of data\n",
        "print(avocados.head())\n",
        "\n",
        "# Get the total number of avocados sold of each size\n",
        "nb_sold_by_size = avocados.groupby('size')['nb_sold'].sum()\n",
        "\n",
        "# Create a bar plot of the number of avocados sold by size\n",
        "nb_sold_by_size.plot(kind='bar')\n",
        "\n",
        "# Show the plot\n",
        "plt.show()"
      ],
      "execution_count": 44,
      "outputs": [
        {
          "output_type": "stream",
          "text": [
            "         date          type  year  avg_price   size     nb_sold\n",
            "0  2015-12-27  conventional  2015       0.95  small  9626901.09\n",
            "1  2015-12-20  conventional  2015       0.98  small  8710021.76\n",
            "2  2015-12-13  conventional  2015       0.93  small  9855053.66\n",
            "3  2015-12-06  conventional  2015       0.89  small  9405464.36\n",
            "4  2015-11-29  conventional  2015       0.99  small  8094803.56\n"
          ],
          "name": "stdout"
        },
        {
          "output_type": "display_data",
          "data": {
            "image/png": "[encoded data removed]",
            "text/plain": [
              "<Figure size 432x288 with 1 Axes>"
            ]
          },
          "metadata": {
            "tags": [],
            "needs_background": "light"
          }
        }
      ]
    },
    {
      "cell_type": "markdown",
      "metadata": {
        "id": "tWv5lKN21HRA"
      },
      "source": [
        "## Line Plot"
      ]
    },
    {
      "cell_type": "markdown",
      "metadata": {
        "id": "jpyr5uhpvosv"
      },
      "source": [
        "### Visualizing the changes in sales over time\n",
        "\n",
        "Line plots are designed to visualize the relationship between two numeric variables, where each data values is connected to the next one. They are especially useful for visualizing the change in a number over time since each time point is naturally connected to the next time point. In this exercise, you'll visualize the change in avocado sales over three years."
      ]
    },
    {
      "cell_type": "code",
      "metadata": {
        "id": "NU2g9vEKbvH9",
        "colab": {
          "base_uri": "https://localhost:8080/",
          "height": 0
        },
        "outputId": "b3a9a106-15a6-4c91-d27d-a6a49e0ec84e"
      },
      "source": [
        "# Get the total number of avocados sold on each date\n",
        "nb_sold_by_date = avocados.groupby('date')[\"nb_sold\"].sum()\n",
        "\n",
        "# Create a line plot of the number of avocados sold by date\n",
        "nb_sold_by_date.plot(ylabel=\"sold in LE\",kind=\"line\",rot=45)\n",
        "\n",
        "# Show the plot\n",
        "plt.show()"
      ],
      "execution_count": 45,
      "outputs": [
        {
          "output_type": "display_data",
          "data": {
            "image/png": "[encoded data removed]",
            "text/plain": [
              "<Figure size 432x288 with 1 Axes>"
            ]
          },
          "metadata": {
            "tags": [],
            "needs_background": "light"
          }
        }
      ]
    },
    {
      "cell_type": "markdown",
      "metadata": {
        "id": "QwZ2wjiU1LJc"
      },
      "source": [
        "## Scatter Plot"
      ]
    },
    {
      "cell_type": "markdown",
      "metadata": {
        "id": "lW5FQV1exJt8"
      },
      "source": [
        "Scatter plots are ideal for visualizing relationships between numerical variables. In this exercise, you'll compare the number of avocados sold to average price and see if they're at all related. If they're related, you may be able to use one number to predict the other."
      ]
    },
    {
      "cell_type": "code",
      "metadata": {
        "colab": {
          "base_uri": "https://localhost:8080/",
          "height": 0
        },
        "id": "7x89_dfIwCRJ",
        "outputId": "b9e67841-ec16-4067-9b0f-82dc8b478a88"
      },
      "source": [
        "# Scatter plot of nb_sold vs avg_price with title\n",
        "avocados.plot(x=\"nb_sold\",y=\"avg_price\",kind=\"scatter\",title=\"Number of avocados sold vs. average price\")\n",
        "# Show the plot\n",
        "plt.show()"
      ],
      "execution_count": 46,
      "outputs": [
        {
          "output_type": "display_data",
          "data": {
            "image/png": "[encoded data removed]",
            "text/plain": [
              "<Figure size 432x288 with 1 Axes>"
            ]
          },
          "metadata": {
            "tags": [],
            "needs_background": "light"
          }
        }
      ]
    },
    {
      "cell_type": "markdown",
      "metadata": {
        "id": "O74O8kCIxWD_"
      },
      "source": [
        "### Creating multiple plots \n",
        "Creating multiple plots for different subsets of data allows you to compare groups. In this exercise, you'll create multiple histograms to compare the prices of conventional and organic avocados."
      ]
    },
    {
      "cell_type": "markdown",
      "metadata": {
        "id": "SeOKumTDyhFZ"
      },
      "source": [
        "* Subset avocados for the conventional type, and the average price column. \n",
        "* Create a histogram.\n",
        "* Create a histogram of avg_price for organic type avocados.\n",
        "* Add a legend to your plot, with the names \"conventional\" and \"organic\".\n",
        "* Show your plot."
      ]
    },
    {
      "cell_type": "code",
      "metadata": {
        "colab": {
          "base_uri": "https://localhost:8080/",
          "height": 0
        },
        "id": "-HPamctdxKtv",
        "outputId": "965c5aa1-1c94-42d6-c29f-0bce49794ae5"
      },
      "source": [
        "# Histogram of conventional avg_price \n",
        "avocados[avocados[\"type\"]=='conventional'][\"avg_price\"].hist(alpha=0.6)\n",
        "\n",
        "# Histogram of organic avg_price\n",
        "avocados[avocados[\"type\"]=='organic'][\"avg_price\"].hist(alpha=0.6)\n",
        "\n",
        "# Add a legend\n",
        "plt.legend(['conventional','organic'])\n",
        "\n",
        "# Show the plot\n",
        "plt.show()"
      ],
      "execution_count": 47,
      "outputs": [
        {
          "output_type": "display_data",
          "data": {
            "image/png": "[encoded data removed]",
            "text/plain": [
              "<Figure size 432x288 with 1 Axes>"
            ]
          },
          "metadata": {
            "tags": [],
            "needs_background": "light"
          }
        }
      ]
    },
    {
      "cell_type": "markdown",
      "metadata": {
        "id": "OL4ozmD5C33H"
      },
      "source": [
        "## Missing Data\n"
      ]
    },
    {
      "cell_type": "markdown",
      "metadata": {
        "id": "9SDOl3GhC7f3"
      },
      "source": [
        "### Finding missing values\n",
        "Missing values are everywhere, and you don't want them interfering with your work. Some functions ignore missing data by default, but that's not always the behavior you might want. Some functions can't handle missing values at all, so these values need to be taken care of before you can use them. If you don't know where your missing values are, or if they exist, you could make mistakes in your analysis. In this exercise, you'll determine if there are missing values in the dataset, and if so, how many."
      ]
    },
    {
      "cell_type": "code",
      "metadata": {
        "id": "rDj3UNc_AaVD",
        "colab": {
          "base_uri": "https://localhost:8080/"
        },
        "outputId": "7fc1c1b5-2a88-4858-a9e7-968f117ba081"
      },
      "source": [
        "avocados_2016=avocados[avocados['year']==2016]\n",
        "print(avocados_2016)"
      ],
      "execution_count": 48,
      "outputs": [
        {
          "output_type": "stream",
          "text": [
            "           date          type  year  avg_price         size      nb_sold\n",
            "52   2016-12-25  conventional  2016       1.00        small   9255125.20\n",
            "53   2016-12-18  conventional  2016       0.96        small   9394065.91\n",
            "54   2016-12-11  conventional  2016       0.98        small   9009996.11\n",
            "55   2016-12-04  conventional  2016       1.00        small  11043350.90\n",
            "56   2016-11-27  conventional  2016       1.21        small   7891487.94\n",
            "..          ...           ...   ...        ...          ...          ...\n",
            "944  2016-01-31       organic  2016       1.43  extra_large      5515.91\n",
            "945  2016-01-24       organic  2016       1.41  extra_large     12933.97\n",
            "946  2016-01-17       organic  2016       1.44  extra_large     13106.29\n",
            "947  2016-01-10       organic  2016       1.35  extra_large      8771.79\n",
            "948  2016-01-03       organic  2016       1.43  extra_large      7749.40\n",
            "\n",
            "[312 rows x 6 columns]\n"
          ],
          "name": "stdout"
        }
      ]
    },
    {
      "cell_type": "code",
      "metadata": {
        "colab": {
          "base_uri": "https://localhost:8080/",
          "height": 0
        },
        "id": "Tc4RKOZTBU-J",
        "outputId": "f75449fb-2831-4d92-82fb-52dc82b6d954"
      },
      "source": [
        "# Check individual values for missing values\n",
        "print(avocados_2016.isna())\n",
        "\n",
        "# Check each column for missing values\n",
        "print(avocados_2016.isna().any())\n",
        "\n",
        "# Bar plot of missing values by variable\n",
        "avocados_2016.isna().sum().plot(kind='bar')\n",
        "\n",
        "# Show plot\n",
        "plt.show()\n"
      ],
      "execution_count": 49,
      "outputs": [
        {
          "output_type": "stream",
          "text": [
            "      date   type   year  avg_price   size  nb_sold\n",
            "52   False  False  False      False  False    False\n",
            "53   False  False  False      False  False    False\n",
            "54   False  False  False      False  False    False\n",
            "55   False  False  False      False  False    False\n",
            "56   False  False  False      False  False    False\n",
            "..     ...    ...    ...        ...    ...      ...\n",
            "944  False  False  False      False  False    False\n",
            "945  False  False  False      False  False    False\n",
            "946  False  False  False      False  False    False\n",
            "947  False  False  False      False  False    False\n",
            "948  False  False  False      False  False    False\n",
            "\n",
            "[312 rows x 6 columns]\n",
            "date         False\n",
            "type         False\n",
            "year         False\n",
            "avg_price    False\n",
            "size         False\n",
            "nb_sold      False\n",
            "dtype: bool\n"
          ],
          "name": "stdout"
        },
        {
          "output_type": "display_data",
          "data": {
            "image/png": "[encoded data removed]",
            "text/plain": [
              "<Figure size 432x288 with 1 Axes>"
            ]
          },
          "metadata": {
            "tags": [],
            "needs_background": "light"
          }
        }
      ]
    },
    {
      "cell_type": "markdown",
      "metadata": {
        "id": "lorRi93YDgeS"
      },
      "source": [
        "### Removing missing values\n",
        "Now that you know there are some missing values in your DataFrame, you have a few options to deal with them. One way is to remove them from the dataset completely. In this exercise, you'll remove missing values by removing all rows that contain missing values."
      ]
    },
    {
      "cell_type": "code",
      "metadata": {
        "colab": {
          "base_uri": "https://localhost:8080/"
        },
        "id": "v0hb4K4vDO9_",
        "outputId": "1a8d1172-5a2c-4c78-d782-a567641389a2"
      },
      "source": [
        "# Remove rows with missing values\n",
        "avocados_complete = avocados_2016.dropna()\n",
        "\n",
        "# Check if any columns contain missing values\n",
        "print(avocados_complete.isna().any())"
      ],
      "execution_count": 50,
      "outputs": [
        {
          "output_type": "stream",
          "text": [
            "date         False\n",
            "type         False\n",
            "year         False\n",
            "avg_price    False\n",
            "size         False\n",
            "nb_sold      False\n",
            "dtype: bool\n"
          ],
          "name": "stdout"
        }
      ]
    },
    {
      "cell_type": "markdown",
      "metadata": {
        "id": "9nWX4_pPES0z"
      },
      "source": [
        "### Replacing missing values\n",
        "\n",
        "Another way of handling missing values is to replace them all with the same value. For numerical variables, one option is to replace values with 0— you'll do this here. However, when you replace missing values, you make assumptions about what a missing value means. In this case, you will assume that a missing number sold means that no sales for that avocado type were made that week.\n",
        "\n",
        "In this exercise, you'll see how replacing missing values can affect the distribution of a variable using histograms. You can plot histograms for multiple variables at a time as follows:\n",
        "\n",
        ">> dogs[[\"height_cm\", \"weight_kg\"]].hist()"
      ]
    },
    {
      "cell_type": "code",
      "metadata": {
        "id": "mlZuQ4LFEK8Y",
        "colab": {
          "base_uri": "https://localhost:8080/",
          "height": 69
        },
        "outputId": "d2d67b40-2a8a-4010-9ad7-096d3a915b80"
      },
      "source": [
        "'''\n",
        "# List the columns with missing values\n",
        "cols_with_missing = [\"small_sold\", \"large_sold\", \"xl_sold\"]\n",
        "\n",
        "# Create histograms showing the distributions cols_with_missing\n",
        "avocados_2016[cols_with_missing].hist()\n",
        "\n",
        "# Show the plot\n",
        "plt.show()\n",
        "\n",
        "# Fill in missing values with 0\n",
        "avocados_filled = avocados_2016.fillna(0)\n",
        "\n",
        "# Create histograms of the filled columns\n",
        "avocados_filled[cols_with_missing].hist()\n",
        "\n",
        "# Show the plot\n",
        "plt.show()\n",
        "'''"
      ],
      "execution_count": 51,
      "outputs": [
        {
          "output_type": "execute_result",
          "data": {
            "application/vnd.google.colaboratory.intrinsic+json": {
              "type": "string"
            },
            "text/plain": [
              "'\\n# List the columns with missing values\\ncols_with_missing = [\"small_sold\", \"large_sold\", \"xl_sold\"]\\n\\n# Create histograms showing the distributions cols_with_missing\\navocados_2016[cols_with_missing].hist()\\n\\n# Show the plot\\nplt.show()\\n\\n# Fill in missing values with 0\\navocados_filled = avocados_2016.fillna(0)\\n\\n# Create histograms of the filled columns\\navocados_filled[cols_with_missing].hist()\\n\\n# Show the plot\\nplt.show()\\n'"
            ]
          },
          "metadata": {
            "tags": []
          },
          "execution_count": 51
        }
      ]
    },
    {
      "cell_type": "markdown",
      "metadata": {
        "id": "V6MfsVS8Nk6m"
      },
      "source": [
        "# Creating DataFrame"
      ]
    },
    {
      "cell_type": "code",
      "metadata": {
        "id": "QobR9UQsNik6",
        "colab": {
          "base_uri": "https://localhost:8080/"
        },
        "outputId": "5825ac7e-236d-4c4e-f402-80ee273a9915"
      },
      "source": [
        "# Create a list of dictionaries with new data\n",
        "avocados_list = [\n",
        "    {\"date\": \"2019-11-03\", \"small_sold\": 10376832, \"large_sold\": 7835071},\n",
        "    {\"date\": \"2019-11-10\", \"small_sold\": 10717154, \"large_sold\": 8561348}]\n",
        "\n",
        "# Convert list into DataFrame\n",
        "avocados_2019 = pd.DataFrame(avocados_list)\n",
        "\n",
        "# Print the new DataFrame\n",
        "print(avocados_2019)"
      ],
      "execution_count": 52,
      "outputs": [
        {
          "output_type": "stream",
          "text": [
            "         date  small_sold  large_sold\n",
            "0  2019-11-03    10376832     7835071\n",
            "1  2019-11-10    10717154     8561348\n"
          ],
          "name": "stdout"
        }
      ]
    },
    {
      "cell_type": "code",
      "metadata": {
        "id": "F4Tfj3S-OKuQ",
        "colab": {
          "base_uri": "https://localhost:8080/"
        },
        "outputId": "77fdcd1a-fe32-46af-f642-96b14b92362a"
      },
      "source": [
        "# Create a dictionary of lists with new data\n",
        "avocados_dict = {\n",
        "  \"date\": [\"2019-11-17\",\"2019-12-01\"],\n",
        "  \"small_sold\": [10859987,9291631],\n",
        "  \"large_sold\": [7674135,6238096]\n",
        "}\n",
        "\n",
        "# Convert dictionary into DataFrame\n",
        "avocados_2019 = pd.DataFrame(avocados_dict)\n",
        "\n",
        "# Print the new DataFrame\n",
        "print(avocados_2019)"
      ],
      "execution_count": 53,
      "outputs": [
        {
          "output_type": "stream",
          "text": [
            "         date  small_sold  large_sold\n",
            "0  2019-11-17    10859987     7674135\n",
            "1  2019-12-01     9291631     6238096\n"
          ],
          "name": "stdout"
        }
      ]
    },
    {
      "cell_type": "code",
      "metadata": {
        "id": "Z0MQKTejtbm3"
      },
      "source": [
        ""
      ],
      "execution_count": 53,
      "outputs": []
    }
  ]
}